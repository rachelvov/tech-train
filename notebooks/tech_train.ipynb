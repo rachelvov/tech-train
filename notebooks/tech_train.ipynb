{
 "cells": [
  {
   "cell_type": "markdown",
   "metadata": {},
   "source": [
    "## Step 0"
   ]
  },
  {
   "cell_type": "code",
   "execution_count": null,
   "metadata": {},
   "outputs": [],
   "source": [
    "import openai\n",
    "print(\"Great! It worked!\")"
   ]
  },
  {
   "cell_type": "markdown",
   "metadata": {},
   "source": [
    "##Step 1"
   ]
  },
  {
   "cell_type": "code",
   "execution_count": 2,
   "metadata": {},
   "outputs": [],
   "source": [
    "import openai\n",
    "import os\n",
    "\n",
    "openai.api_type = \"azure\"\n",
    "openai.api_base = os.getenv(\"OPENAI_API_BASE\")\n",
    "openai.api_version = \"2023-07-01-preview\"\n",
    "openai.api_key = os.getenv(\"OPENAI_API_KEY\")\n",
    "from tech_train_functions import call_open_ai\n",
    "client = None\n"
   ]
  },
  {
   "cell_type": "code",
   "execution_count": null,
   "metadata": {},
   "outputs": [],
   "source": [
    "your_deployment_name = \"gpt-35-turbo\" #if your deployment has different name please change to the correct one\n",
    "print(call_open_ai(system_message=\"You're an AI assistant\", text=\"please write names of 3 animals\", engine=your_deployment_name))\n",
    "print(call_open_ai(system_message=\"You're an AI assistant\", text=\"please write names of 4 fruits\", engine=your_deployment_name))\n"
   ]
  },
  {
   "cell_type": "markdown",
   "metadata": {},
   "source": [
    "You got the fruits and animals? Great!\n",
    "Now TA4H check:"
   ]
  },
  {
   "cell_type": "code",
   "execution_count": null,
   "metadata": {},
   "outputs": [],
   "source": [
    "from tech_train_functions import sample_analyze_healthcare_action\n",
    "ta4h_endpoint=\"https://rachel-tech-train-ta4h.cognitiveservices.azure.com/\"\n",
    "key=\"10c6a2342400467fa3c8e6b90d2d6f98\"\n",
    "\n",
    "documents = [\n",
    "        \"\"\"\n",
    "        Patient needs to take 100 mg of ibuprofen, and 3 mg of potassium. Also needs to take\n",
    "        10 mg of Zocor.\n",
    "        \"\"\",\n",
    "        \"\"\"\n",
    "        Patient needs to take 50 mg of ibuprofen, and 2 mg of Coumadin.\n",
    "        \"\"\"\n",
    "    ]\n",
    "sample_analyze_healthcare_action(ta4h_endpoint, key, documents)"
   ]
  },
  {
   "cell_type": "markdown",
   "metadata": {},
   "source": [
    "Got your text Analyzed? Great! Step 1 done"
   ]
  },
  {
   "cell_type": "markdown",
   "metadata": {},
   "source": [
    "## Step 2 - Load Dataset and run first iteration\n",
    "Load MedQA dev split:"
   ]
  },
  {
   "cell_type": "code",
   "execution_count": null,
   "metadata": {},
   "outputs": [
    {
     "data": {
      "text/html": [
       "<div>\n",
       "<style scoped>\n",
       "    .dataframe tbody tr th:only-of-type {\n",
       "        vertical-align: middle;\n",
       "    }\n",
       "\n",
       "    .dataframe tbody tr th {\n",
       "        vertical-align: top;\n",
       "    }\n",
       "\n",
       "    .dataframe thead th {\n",
       "        text-align: right;\n",
       "    }\n",
       "</style>\n",
       "<table border=\"1\" class=\"dataframe\">\n",
       "  <thead>\n",
       "    <tr style=\"text-align: right;\">\n",
       "      <th></th>\n",
       "      <th>question</th>\n",
       "      <th>answer</th>\n",
       "      <th>answer_idx</th>\n",
       "      <th>options</th>\n",
       "      <th>meta_info</th>\n",
       "    </tr>\n",
       "  </thead>\n",
       "  <tbody>\n",
       "    <tr>\n",
       "      <th>0</th>\n",
       "      <td>A 21-year-old sexually active male complains of fever, pain during urination, and inflammation and pain in the right knee. A culture of the joint fluid shows a bacteria that does not ferment maltose and has no polysaccharide capsule. The physician orders antibiotic therapy for the patient. The mechanism of action of action of the medication given blocks cell wall synthesis, which of the following was given?</td>\n",
       "      <td>Ceftriaxone</td>\n",
       "      <td>C</td>\n",
       "      <td>{'A': 'Gentamicin', 'B': 'Ciprofloxacin', 'C': 'Ceftriaxone', 'D': 'Trimethoprim'}</td>\n",
       "      <td>step1</td>\n",
       "    </tr>\n",
       "    <tr>\n",
       "      <th>1</th>\n",
       "      <td>A 5-year-old girl is brought to the emergency department by her mother because of multiple episodes of nausea and vomiting that last about 2 hours. During this period, she has had 6–8 episodes of bilious vomiting and abdominal pain. The vomiting was preceded by fatigue. The girl feels well between these episodes. She has missed several days of school and has been hospitalized 2 times during the past 6 months for dehydration due to similar episodes of vomiting and nausea. The patient has lived with her mother since her parents divorced 8 months ago. Her immunizations are up-to-date. She is at the 60th percentile for height and 30th percentile for weight. She appears emaciated. Her temperature is 36.8°C (98.8°F), pulse is 99/min, and blood pressure is 82/52 mm Hg. Examination shows dry mucous membranes. The lungs are clear to auscultation. Abdominal examination shows a soft abdomen with mild diffuse tenderness with no guarding or rebound. The remainder of the physical examination shows no abnormalities. Which of the following is the most likely diagnosis?</td>\n",
       "      <td>Cyclic vomiting syndrome</td>\n",
       "      <td>A</td>\n",
       "      <td>{'A': 'Cyclic vomiting syndrome', 'B': 'Gastroenteritis', 'C': 'Hypertrophic pyloric stenosis', 'D': 'Gastroesophageal reflux disease'}</td>\n",
       "      <td>step2&amp;3</td>\n",
       "    </tr>\n",
       "  </tbody>\n",
       "</table>\n",
       "</div>"
      ],
      "text/plain": [
       "                                                                                                                                                                                                                                                                                                                                                                                                                                                                                                                                                                                                                                                                                                                                                                                                                                                                                                                                                                                                                                                                                                        question  \\\n",
       "0                                                                                                                                                                                                                                                                                                                                                                                                                                                                                                                                                                                                                                                                                     A 21-year-old sexually active male complains of fever, pain during urination, and inflammation and pain in the right knee. A culture of the joint fluid shows a bacteria that does not ferment maltose and has no polysaccharide capsule. The physician orders antibiotic therapy for the patient. The mechanism of action of action of the medication given blocks cell wall synthesis, which of the following was given?   \n",
       "1  A 5-year-old girl is brought to the emergency department by her mother because of multiple episodes of nausea and vomiting that last about 2 hours. During this period, she has had 6–8 episodes of bilious vomiting and abdominal pain. The vomiting was preceded by fatigue. The girl feels well between these episodes. She has missed several days of school and has been hospitalized 2 times during the past 6 months for dehydration due to similar episodes of vomiting and nausea. The patient has lived with her mother since her parents divorced 8 months ago. Her immunizations are up-to-date. She is at the 60th percentile for height and 30th percentile for weight. She appears emaciated. Her temperature is 36.8°C (98.8°F), pulse is 99/min, and blood pressure is 82/52 mm Hg. Examination shows dry mucous membranes. The lungs are clear to auscultation. Abdominal examination shows a soft abdomen with mild diffuse tenderness with no guarding or rebound. The remainder of the physical examination shows no abnormalities. Which of the following is the most likely diagnosis?   \n",
       "\n",
       "                     answer answer_idx  \\\n",
       "0               Ceftriaxone          C   \n",
       "1  Cyclic vomiting syndrome          A   \n",
       "\n",
       "                                                                                                                                   options  \\\n",
       "0                                                       {'A': 'Gentamicin', 'B': 'Ciprofloxacin', 'C': 'Ceftriaxone', 'D': 'Trimethoprim'}   \n",
       "1  {'A': 'Cyclic vomiting syndrome', 'B': 'Gastroenteritis', 'C': 'Hypertrophic pyloric stenosis', 'D': 'Gastroesophageal reflux disease'}   \n",
       "\n",
       "  meta_info  \n",
       "0     step1  \n",
       "1   step2&3  "
      ]
     },
     "execution_count": 8,
     "metadata": {},
     "output_type": "execute_result"
    }
   ],
   "source": [
    "import pandas as pd\n",
    "from tqdm import tqdm\n",
    "pd.set_option('max_colwidth', 10000)\n",
    "pd.options.mode.chained_assignment = None\n",
    "df_dev = pd.read_csv(\"../data/MedQA_dev.csv\", index_col=0)\n",
    "df_train = pd.read_csv(\"../data/MedQA_train.csv\", index_col=0)\n",
    "df_dev.head(2)\n"
   ]
  },
  {
   "cell_type": "code",
   "execution_count": null,
   "metadata": {},
   "outputs": [],
   "source": [
    "#create small sample for experiments:\n",
    "df_dev_sample = df_dev[:40]"
   ]
  },
  {
   "cell_type": "markdown",
   "metadata": {},
   "source": [
    "Now let's run our first inference!\n",
    "\n",
    "Here we're supplying GPT with questions, options for answers, and that's all"
   ]
  },
  {
   "cell_type": "code",
   "execution_count": null,
   "metadata": {},
   "outputs": [
    {
     "name": "stdout",
     "output_type": "stream",
     "text": [
      "Input example:A 21-year-old sexually active male complains of fever, pain during urination, and inflammation and pain in the right knee. A culture of the joint fluid shows a bacteria that does not ferment maltose and has no polysaccharide capsule. The physician orders antibiotic therapy for the patient. The mechanism of action of action of the medication given blocks cell wall synthesis, which of the following was given? {'A': 'Gentamicin', 'B': 'Ciprofloxacin', 'C': 'Ceftriaxone', 'D': 'Trimethoprim'}\n"
     ]
    },
    {
     "name": "stderr",
     "output_type": "stream",
     "text": [
      "  0%|          | 0/40 [00:00<?, ?it/s]"
     ]
    },
    {
     "name": "stderr",
     "output_type": "stream",
     "text": [
      "100%|██████████| 40/40 [00:12<00:00,  3.15it/s]\n"
     ]
    }
   ],
   "source": [
    "system_message = \"You're a medical expert answering medical questions. \\\n",
    "Answer with only the correct answer and nothing else, not even the index of the answer.\"\n",
    "sample_list = (df_dev_sample[\"question\"]+\" \"+\n",
    "                df_dev_sample[\"options\"].astype(str)).tolist()\n",
    "print(\"Input example:{}\".format(sample_list[0]))\n",
    "\n",
    "\n",
    "replies = []\n",
    "for q in tqdm(sample_list):\n",
    "    ans = call_open_ai(system_message, q, client=client)\n",
    "    replies.append(ans)\n",
    "df_dev_sample.loc[:,\"reply\"] = replies"
   ]
  },
  {
   "cell_type": "markdown",
   "metadata": {},
   "source": [
    "Let's check our answers:"
   ]
  },
  {
   "cell_type": "code",
   "execution_count": null,
   "metadata": {},
   "outputs": [
    {
     "data": {
      "text/html": [
       "<div>\n",
       "<style scoped>\n",
       "    .dataframe tbody tr th:only-of-type {\n",
       "        vertical-align: middle;\n",
       "    }\n",
       "\n",
       "    .dataframe tbody tr th {\n",
       "        vertical-align: top;\n",
       "    }\n",
       "\n",
       "    .dataframe thead th {\n",
       "        text-align: right;\n",
       "    }\n",
       "</style>\n",
       "<table border=\"1\" class=\"dataframe\">\n",
       "  <thead>\n",
       "    <tr style=\"text-align: right;\">\n",
       "      <th></th>\n",
       "      <th>question</th>\n",
       "      <th>answer</th>\n",
       "      <th>answer_idx</th>\n",
       "      <th>options</th>\n",
       "      <th>meta_info</th>\n",
       "      <th>reply</th>\n",
       "    </tr>\n",
       "  </thead>\n",
       "  <tbody>\n",
       "    <tr>\n",
       "      <th>0</th>\n",
       "      <td>A 21-year-old sexually active male complains of fever, pain during urination, and inflammation and pain in the right knee. A culture of the joint fluid shows a bacteria that does not ferment maltose and has no polysaccharide capsule. The physician orders antibiotic therapy for the patient. The mechanism of action of action of the medication given blocks cell wall synthesis, which of the following was given?</td>\n",
       "      <td>Ceftriaxone</td>\n",
       "      <td>C</td>\n",
       "      <td>{'A': 'Gentamicin', 'B': 'Ciprofloxacin', 'C': 'Ceftriaxone', 'D': 'Trimethoprim'}</td>\n",
       "      <td>step1</td>\n",
       "      <td>Ceftriaxone.</td>\n",
       "    </tr>\n",
       "    <tr>\n",
       "      <th>1</th>\n",
       "      <td>A 5-year-old girl is brought to the emergency department by her mother because of multiple episodes of nausea and vomiting that last about 2 hours. During this period, she has had 6–8 episodes of bilious vomiting and abdominal pain. The vomiting was preceded by fatigue. The girl feels well between these episodes. She has missed several days of school and has been hospitalized 2 times during the past 6 months for dehydration due to similar episodes of vomiting and nausea. The patient has lived with her mother since her parents divorced 8 months ago. Her immunizations are up-to-date. She is at the 60th percentile for height and 30th percentile for weight. She appears emaciated. Her temperature is 36.8°C (98.8°F), pulse is 99/min, and blood pressure is 82/52 mm Hg. Examination shows dry mucous membranes. The lungs are clear to auscultation. Abdominal examination shows a soft abdomen with mild diffuse tenderness with no guarding or rebound. The remainder of the physical examination shows no abnormalities. Which of the following is the most likely diagnosis?</td>\n",
       "      <td>Cyclic vomiting syndrome</td>\n",
       "      <td>A</td>\n",
       "      <td>{'A': 'Cyclic vomiting syndrome', 'B': 'Gastroenteritis', 'C': 'Hypertrophic pyloric stenosis', 'D': 'Gastroesophageal reflux disease'}</td>\n",
       "      <td>step2&amp;3</td>\n",
       "      <td>A: Cyclic vomiting syndrome.</td>\n",
       "    </tr>\n",
       "    <tr>\n",
       "      <th>2</th>\n",
       "      <td>A 40-year-old woman presents with difficulty falling asleep, diminished appetite, and tiredness for the past 6 weeks. She says that, despite going to bed early at night, she is unable to fall asleep. She denies feeling anxious or having disturbing thoughts while in bed. Even when she manages to fall asleep, she wakes up early in the morning and is unable to fall back asleep. She says she has grown increasingly irritable and feels increasingly hopeless, and her concentration and interest at work have diminished. The patient denies thoughts of suicide or death. Because of her diminished appetite, she has lost 4 kg (8.8 lb) in the last few weeks and has started drinking a glass of wine every night instead of eating dinner. She has no significant past medical history and is not on any medications. Which of the following is the best course of treatment in this patient?</td>\n",
       "      <td>Trazodone</td>\n",
       "      <td>D</td>\n",
       "      <td>{'A': 'Diazepam', 'B': 'Paroxetine', 'C': 'Zolpidem', 'D': 'Trazodone'}</td>\n",
       "      <td>step1</td>\n",
       "      <td>B: Paroxetine</td>\n",
       "    </tr>\n",
       "  </tbody>\n",
       "</table>\n",
       "</div>"
      ],
      "text/plain": [
       "                                                                                                                                                                                                                                                                                                                                                                                                                                                                                                                                                                                                                                                                                                                                                                                                                                                                                                                                                                                                                                                                                                        question  \\\n",
       "0                                                                                                                                                                                                                                                                                                                                                                                                                                                                                                                                                                                                                                                                                     A 21-year-old sexually active male complains of fever, pain during urination, and inflammation and pain in the right knee. A culture of the joint fluid shows a bacteria that does not ferment maltose and has no polysaccharide capsule. The physician orders antibiotic therapy for the patient. The mechanism of action of action of the medication given blocks cell wall synthesis, which of the following was given?   \n",
       "1  A 5-year-old girl is brought to the emergency department by her mother because of multiple episodes of nausea and vomiting that last about 2 hours. During this period, she has had 6–8 episodes of bilious vomiting and abdominal pain. The vomiting was preceded by fatigue. The girl feels well between these episodes. She has missed several days of school and has been hospitalized 2 times during the past 6 months for dehydration due to similar episodes of vomiting and nausea. The patient has lived with her mother since her parents divorced 8 months ago. Her immunizations are up-to-date. She is at the 60th percentile for height and 30th percentile for weight. She appears emaciated. Her temperature is 36.8°C (98.8°F), pulse is 99/min, and blood pressure is 82/52 mm Hg. Examination shows dry mucous membranes. The lungs are clear to auscultation. Abdominal examination shows a soft abdomen with mild diffuse tenderness with no guarding or rebound. The remainder of the physical examination shows no abnormalities. Which of the following is the most likely diagnosis?   \n",
       "2                                                                                                                                                                                                   A 40-year-old woman presents with difficulty falling asleep, diminished appetite, and tiredness for the past 6 weeks. She says that, despite going to bed early at night, she is unable to fall asleep. She denies feeling anxious or having disturbing thoughts while in bed. Even when she manages to fall asleep, she wakes up early in the morning and is unable to fall back asleep. She says she has grown increasingly irritable and feels increasingly hopeless, and her concentration and interest at work have diminished. The patient denies thoughts of suicide or death. Because of her diminished appetite, she has lost 4 kg (8.8 lb) in the last few weeks and has started drinking a glass of wine every night instead of eating dinner. She has no significant past medical history and is not on any medications. Which of the following is the best course of treatment in this patient?   \n",
       "\n",
       "                     answer answer_idx  \\\n",
       "0               Ceftriaxone          C   \n",
       "1  Cyclic vomiting syndrome          A   \n",
       "2                 Trazodone          D   \n",
       "\n",
       "                                                                                                                                   options  \\\n",
       "0                                                       {'A': 'Gentamicin', 'B': 'Ciprofloxacin', 'C': 'Ceftriaxone', 'D': 'Trimethoprim'}   \n",
       "1  {'A': 'Cyclic vomiting syndrome', 'B': 'Gastroenteritis', 'C': 'Hypertrophic pyloric stenosis', 'D': 'Gastroesophageal reflux disease'}   \n",
       "2                                                                  {'A': 'Diazepam', 'B': 'Paroxetine', 'C': 'Zolpidem', 'D': 'Trazodone'}   \n",
       "\n",
       "  meta_info                         reply  \n",
       "0     step1                  Ceftriaxone.  \n",
       "1   step2&3  A: Cyclic vomiting syndrome.  \n",
       "2     step1                 B: Paroxetine  "
      ]
     },
     "execution_count": 6,
     "metadata": {},
     "output_type": "execute_result"
    }
   ],
   "source": [
    "df_dev_sample.head(3)"
   ]
  },
  {
   "cell_type": "markdown",
   "metadata": {},
   "source": [
    "As you can see it's not exactly like the gold answer... we'll be using a fuzzy  match function to assess if the reply is similar to gold answer:"
   ]
  },
  {
   "cell_type": "code",
   "execution_count": null,
   "metadata": {},
   "outputs": [],
   "source": [
    "from tech_train_functions import is_similar\n",
    "df_dev_sample.loc[:,\"is correct reply\"] = df_dev_sample.apply(lambda row:is_similar(row[\"answer\"], row[\"answer_idx\"], row[\"reply\"]), axis=1)\n"
   ]
  },
  {
   "cell_type": "markdown",
   "metadata": {},
   "source": [
    "Let's see what is our accuracy:"
   ]
  },
  {
   "cell_type": "code",
   "execution_count": null,
   "metadata": {},
   "outputs": [
    {
     "data": {
      "text/plain": [
       "is correct reply\n",
       "1    0.625\n",
       "0    0.375\n",
       "Name: proportion, dtype: float64"
      ]
     },
     "execution_count": 8,
     "metadata": {},
     "output_type": "execute_result"
    }
   ],
   "source": [
    "df_dev_sample[\"is correct reply\"].value_counts(normalize=True)"
   ]
  },
  {
   "cell_type": "markdown",
   "metadata": {},
   "source": [
    "Better than 25% random but not too good... "
   ]
  },
  {
   "cell_type": "markdown",
   "metadata": {},
   "source": [
    "##\n",
    "## STEP 3 - Chain of Thought"
   ]
  },
  {
   "cell_type": "code",
   "execution_count": null,
   "metadata": {},
   "outputs": [
    {
     "name": "stdout",
     "output_type": "stream",
     "text": [
      "Input example:A 21-year-old sexually active male complains of fever, pain during urination, and inflammation and pain in the right knee. A culture of the joint fluid shows a bacteria that does not ferment maltose and has no polysaccharide capsule. The physician orders antibiotic therapy for the patient. The mechanism of action of action of the medication given blocks cell wall synthesis, which of the following was given? {'A': 'Gentamicin', 'B': 'Ciprofloxacin', 'C': 'Ceftriaxone', 'D': 'Trimethoprim'}\n"
     ]
    },
    {
     "name": "stderr",
     "output_type": "stream",
     "text": [
      "100%|██████████| 40/40 [01:47<00:00,  2.69s/it]\n"
     ]
    }
   ],
   "source": [
    "system_message_CoT = \"You're a medical expert answering medical questions. Please answer step by step. Start with 'let's take it step by step'\\\n",
    "and end with 'the correct answer is:' and then the correct answer. Please allways end with this phrase\"\n",
    "\n",
    "sample_list = (df_dev_sample[\"question\"]+\" \"+\n",
    "                df_dev_sample[\"options\"].astype(str)).tolist()\n",
    "print(\"Input example:{}\".format(sample_list[0]))\n",
    "\n",
    "\n",
    "replies = []\n",
    "for q in tqdm(sample_list):\n",
    "    ans = call_open_ai(system_message_CoT, q, client=client)\n",
    "    replies.append(ans)\n",
    "df_dev_sample.loc[:,\"reply_CoT\"] = replies"
   ]
  },
  {
   "cell_type": "code",
   "execution_count": null,
   "metadata": {},
   "outputs": [
    {
     "data": {
      "text/plain": [
       "\"Let's take it step by step. \\n\\nThe patient is a 21-year-old sexually active male who presents with fever, pain during urination, and inflammation and pain in the right knee. A culture of the joint fluid shows a bacteria that does not ferment maltose and has no polysaccharide capsule. \\n\\nThe physician orders antibiotic therapy for the patient. The mechanism of action of the medication given blocks cell wall synthesis. \\n\\nThe options given are Gentamicin, Ciprofloxacin, Ceftriaxone, and Trimethoprim. \\n\\nOut of these options, the medication that blocks cell wall synthesis is Ceftriaxone. \\n\\nTherefore, the correct answer is: C) Ceftriaxone.\""
      ]
     },
     "execution_count": 10,
     "metadata": {},
     "output_type": "execute_result"
    }
   ],
   "source": [
    "#let's look at the result:\n",
    "df_dev_sample[\"reply_CoT\"].iloc[0]"
   ]
  },
  {
   "cell_type": "code",
   "execution_count": null,
   "metadata": {},
   "outputs": [
    {
     "data": {
      "text/html": [
       "<div>\n",
       "<style scoped>\n",
       "    .dataframe tbody tr th:only-of-type {\n",
       "        vertical-align: middle;\n",
       "    }\n",
       "\n",
       "    .dataframe tbody tr th {\n",
       "        vertical-align: top;\n",
       "    }\n",
       "\n",
       "    .dataframe thead th {\n",
       "        text-align: right;\n",
       "    }\n",
       "</style>\n",
       "<table border=\"1\" class=\"dataframe\">\n",
       "  <thead>\n",
       "    <tr style=\"text-align: right;\">\n",
       "      <th></th>\n",
       "      <th>question</th>\n",
       "      <th>answer</th>\n",
       "      <th>answer_idx</th>\n",
       "      <th>options</th>\n",
       "      <th>meta_info</th>\n",
       "      <th>reply</th>\n",
       "      <th>is correct reply</th>\n",
       "      <th>reply_CoT</th>\n",
       "    </tr>\n",
       "  </thead>\n",
       "  <tbody>\n",
       "    <tr>\n",
       "      <th>0</th>\n",
       "      <td>A 21-year-old sexually active male complains of fever, pain during urination, and inflammation and pain in the right knee. A culture of the joint fluid shows a bacteria that does not ferment maltose and has no polysaccharide capsule. The physician orders antibiotic therapy for the patient. The mechanism of action of action of the medication given blocks cell wall synthesis, which of the following was given?</td>\n",
       "      <td>Ceftriaxone</td>\n",
       "      <td>C</td>\n",
       "      <td>{'A': 'Gentamicin', 'B': 'Ciprofloxacin', 'C': 'Ceftriaxone', 'D': 'Trimethoprim'}</td>\n",
       "      <td>step1</td>\n",
       "      <td>Ceftriaxone.</td>\n",
       "      <td>1</td>\n",
       "      <td>Let's take it step by step. \\n\\nThe patient is a 21-year-old sexually active male who presents with fever, pain during urination, and inflammation and pain in the right knee. A culture of the joint fluid shows a bacteria that does not ferment maltose and has no polysaccharide capsule. \\n\\nThe physician orders antibiotic therapy for the patient. The mechanism of action of the medication given blocks cell wall synthesis. \\n\\nThe options given are Gentamicin, Ciprofloxacin, Ceftriaxone, and Trimethoprim. \\n\\nOut of these options, the medication that blocks cell wall synthesis is Ceftriaxone. \\n\\nTherefore, the correct answer is: C) Ceftriaxone.</td>\n",
       "    </tr>\n",
       "    <tr>\n",
       "      <th>1</th>\n",
       "      <td>A 5-year-old girl is brought to the emergency department by her mother because of multiple episodes of nausea and vomiting that last about 2 hours. During this period, she has had 6–8 episodes of bilious vomiting and abdominal pain. The vomiting was preceded by fatigue. The girl feels well between these episodes. She has missed several days of school and has been hospitalized 2 times during the past 6 months for dehydration due to similar episodes of vomiting and nausea. The patient has lived with her mother since her parents divorced 8 months ago. Her immunizations are up-to-date. She is at the 60th percentile for height and 30th percentile for weight. She appears emaciated. Her temperature is 36.8°C (98.8°F), pulse is 99/min, and blood pressure is 82/52 mm Hg. Examination shows dry mucous membranes. The lungs are clear to auscultation. Abdominal examination shows a soft abdomen with mild diffuse tenderness with no guarding or rebound. The remainder of the physical examination shows no abnormalities. Which of the following is the most likely diagnosis?</td>\n",
       "      <td>Cyclic vomiting syndrome</td>\n",
       "      <td>A</td>\n",
       "      <td>{'A': 'Cyclic vomiting syndrome', 'B': 'Gastroenteritis', 'C': 'Hypertrophic pyloric stenosis', 'D': 'Gastroesophageal reflux disease'}</td>\n",
       "      <td>step2&amp;3</td>\n",
       "      <td>A: Cyclic vomiting syndrome.</td>\n",
       "      <td>1</td>\n",
       "      <td>Let's take it step by step. The patient is a 5-year-old girl who has been experiencing multiple episodes of nausea and vomiting for about 2 hours. She has had 6-8 episodes of bilious vomiting and abdominal pain. She has missed several days of school and has been hospitalized twice in the past 6 months for dehydration due to similar episodes of vomiting and nausea. The patient appears emaciated and has dry mucous membranes. Her temperature is normal, but her pulse is elevated, and her blood pressure is low. Abdominal examination shows mild diffuse tenderness with no guarding or rebound. Based on these symptoms, which of the following is the most likely diagnosis?\\n\\nThe correct answer is: Cyclic vomiting syndrome.</td>\n",
       "    </tr>\n",
       "    <tr>\n",
       "      <th>2</th>\n",
       "      <td>A 40-year-old woman presents with difficulty falling asleep, diminished appetite, and tiredness for the past 6 weeks. She says that, despite going to bed early at night, she is unable to fall asleep. She denies feeling anxious or having disturbing thoughts while in bed. Even when she manages to fall asleep, she wakes up early in the morning and is unable to fall back asleep. She says she has grown increasingly irritable and feels increasingly hopeless, and her concentration and interest at work have diminished. The patient denies thoughts of suicide or death. Because of her diminished appetite, she has lost 4 kg (8.8 lb) in the last few weeks and has started drinking a glass of wine every night instead of eating dinner. She has no significant past medical history and is not on any medications. Which of the following is the best course of treatment in this patient?</td>\n",
       "      <td>Trazodone</td>\n",
       "      <td>D</td>\n",
       "      <td>{'A': 'Diazepam', 'B': 'Paroxetine', 'C': 'Zolpidem', 'D': 'Trazodone'}</td>\n",
       "      <td>step1</td>\n",
       "      <td>B: Paroxetine</td>\n",
       "      <td>0</td>\n",
       "      <td>Let's take it step by step. The patient is presenting with difficulty falling asleep, diminished appetite, tiredness, irritability, and feelings of hopelessness. She has also lost weight and is drinking wine instead of eating dinner. She denies having suicidal thoughts. The best course of treatment for this patient would be to screen her for depression and anxiety. If she is diagnosed with depression, the best course of treatment would be psychotherapy and antidepressant medication. \\n\\nThe correct answer is: We cannot determine the best course of treatment without a proper diagnosis. The patient should be screened for depression and anxiety, and if diagnosed with depression, psychotherapy and antidepressant medication would be the best course of treatment.</td>\n",
       "    </tr>\n",
       "    <tr>\n",
       "      <th>3</th>\n",
       "      <td>A 37-year-old female with a history of type II diabetes mellitus presents to the emergency department complaining of blood in her urine, left-sided flank pain, nausea, and fever. She also states that she has pain with urination. Vital signs include: temperature is 102 deg F (39.4 deg C), blood pressure is 114/82 mmHg, pulse is 96/min, respirations are 18, and oxygen saturation of 97% on room air. On physical examination, the patient appears uncomfortable and has tenderness on the left flank and left costovertebral angle. Which of the following is the next best step in management?</td>\n",
       "      <td>Obtain a urine analysis and urine culture</td>\n",
       "      <td>B</td>\n",
       "      <td>{'A': 'Obtain an abdominal CT scan', 'B': 'Obtain a urine analysis and urine culture', 'C': 'Begin intravenous treatment with ceftazidime', 'D': 'No treatment is necessary'}</td>\n",
       "      <td>step2&amp;3</td>\n",
       "      <td>B: Obtain a urine analysis and urine culture.</td>\n",
       "      <td>1</td>\n",
       "      <td>Let's take it step by step. The patient is presenting with symptoms of a urinary tract infection (UTI) and fever, which could indicate pyelonephritis. The next best step in management would be to obtain a urine analysis and urine culture to confirm the diagnosis of UTI. Therefore, the correct answer is B: Obtain a urine analysis and urine culture.</td>\n",
       "    </tr>\n",
       "    <tr>\n",
       "      <th>4</th>\n",
       "      <td>A 19-year-old boy presents with confusion and the inability to speak properly. The patient's mother says that, a few hours ago, she noticed a change in the way he talked and that he appeared to be in a daze. He then lost consciousness, and she managed to get him to the hospital. She is also concerned about the weight he has lost over the past few months. His blood pressure is 80/55 mm Hg, pulse is 115/min, temperature is 37.2°C (98.9°F), and respiratory rate is 18/min. On physical examination, the patient is taking rapid, deep breaths, and his breath has a fruity odor. Dry mucous membranes and dry skin are noticeable. He is unable to cooperate for a mental status examination. Results of his arterial blood gas analysis are shown.\\nPco2 16 mm Hg\\nHCO3–  10 mEq/L\\nPo2 91 mm Hg\\npH 7.1\\nHis glucose level is 450 mg/dL, and his potassium level is 4.1 mEq/L. Which of the following should be treated first in this patient?</td>\n",
       "      <td>Hypoperfusion</td>\n",
       "      <td>A</td>\n",
       "      <td>{'A': 'Hypoperfusion', 'B': 'Hyperglycemia', 'C': 'Metabolic acidosis', 'D': 'Hypokalemia'}</td>\n",
       "      <td>step1</td>\n",
       "      <td>C: Metabolic acidosis.</td>\n",
       "      <td>0</td>\n",
       "      <td>Let's take it step by step. The patient is presenting with confusion, inability to speak properly, and a fruity odor in his breath. His blood pressure is low, pulse is high, and he is taking rapid, deep breaths. His arterial blood gas analysis shows metabolic acidosis with a low pH, low bicarbonate, and low PCO2. His glucose level is high, and his potassium level is normal. \\n\\nThe first step in treating this patient should be to address the metabolic acidosis, which is a life-threatening condition. This can be done by administering intravenous fluids and insulin to lower the blood glucose level. \\n\\nTherefore, the correct answer is: C) Metabolic acidosis.</td>\n",
       "    </tr>\n",
       "  </tbody>\n",
       "</table>\n",
       "</div>"
      ],
      "text/plain": [
       "                                                                                                                                                                                                                                                                                                                                                                                                                                                                                                                                                                                                                                                                                                                                                                                                                                                                                                                                                                                                                                                                                                        question  \\\n",
       "0                                                                                                                                                                                                                                                                                                                                                                                                                                                                                                                                                                                                                                                                                     A 21-year-old sexually active male complains of fever, pain during urination, and inflammation and pain in the right knee. A culture of the joint fluid shows a bacteria that does not ferment maltose and has no polysaccharide capsule. The physician orders antibiotic therapy for the patient. The mechanism of action of action of the medication given blocks cell wall synthesis, which of the following was given?   \n",
       "1  A 5-year-old girl is brought to the emergency department by her mother because of multiple episodes of nausea and vomiting that last about 2 hours. During this period, she has had 6–8 episodes of bilious vomiting and abdominal pain. The vomiting was preceded by fatigue. The girl feels well between these episodes. She has missed several days of school and has been hospitalized 2 times during the past 6 months for dehydration due to similar episodes of vomiting and nausea. The patient has lived with her mother since her parents divorced 8 months ago. Her immunizations are up-to-date. She is at the 60th percentile for height and 30th percentile for weight. She appears emaciated. Her temperature is 36.8°C (98.8°F), pulse is 99/min, and blood pressure is 82/52 mm Hg. Examination shows dry mucous membranes. The lungs are clear to auscultation. Abdominal examination shows a soft abdomen with mild diffuse tenderness with no guarding or rebound. The remainder of the physical examination shows no abnormalities. Which of the following is the most likely diagnosis?   \n",
       "2                                                                                                                                                                                                   A 40-year-old woman presents with difficulty falling asleep, diminished appetite, and tiredness for the past 6 weeks. She says that, despite going to bed early at night, she is unable to fall asleep. She denies feeling anxious or having disturbing thoughts while in bed. Even when she manages to fall asleep, she wakes up early in the morning and is unable to fall back asleep. She says she has grown increasingly irritable and feels increasingly hopeless, and her concentration and interest at work have diminished. The patient denies thoughts of suicide or death. Because of her diminished appetite, she has lost 4 kg (8.8 lb) in the last few weeks and has started drinking a glass of wine every night instead of eating dinner. She has no significant past medical history and is not on any medications. Which of the following is the best course of treatment in this patient?   \n",
       "3                                                                                                                                                                                                                                                                                                                                                                                                                                                                                                     A 37-year-old female with a history of type II diabetes mellitus presents to the emergency department complaining of blood in her urine, left-sided flank pain, nausea, and fever. She also states that she has pain with urination. Vital signs include: temperature is 102 deg F (39.4 deg C), blood pressure is 114/82 mmHg, pulse is 96/min, respirations are 18, and oxygen saturation of 97% on room air. On physical examination, the patient appears uncomfortable and has tenderness on the left flank and left costovertebral angle. Which of the following is the next best step in management?   \n",
       "4                                                                                                                                                A 19-year-old boy presents with confusion and the inability to speak properly. The patient's mother says that, a few hours ago, she noticed a change in the way he talked and that he appeared to be in a daze. He then lost consciousness, and she managed to get him to the hospital. She is also concerned about the weight he has lost over the past few months. His blood pressure is 80/55 mm Hg, pulse is 115/min, temperature is 37.2°C (98.9°F), and respiratory rate is 18/min. On physical examination, the patient is taking rapid, deep breaths, and his breath has a fruity odor. Dry mucous membranes and dry skin are noticeable. He is unable to cooperate for a mental status examination. Results of his arterial blood gas analysis are shown.\\nPco2 16 mm Hg\\nHCO3–  10 mEq/L\\nPo2 91 mm Hg\\npH 7.1\\nHis glucose level is 450 mg/dL, and his potassium level is 4.1 mEq/L. Which of the following should be treated first in this patient?   \n",
       "\n",
       "                                      answer answer_idx  \\\n",
       "0                                Ceftriaxone          C   \n",
       "1                   Cyclic vomiting syndrome          A   \n",
       "2                                  Trazodone          D   \n",
       "3  Obtain a urine analysis and urine culture          B   \n",
       "4                              Hypoperfusion          A   \n",
       "\n",
       "                                                                                                                                                                         options  \\\n",
       "0                                                                                             {'A': 'Gentamicin', 'B': 'Ciprofloxacin', 'C': 'Ceftriaxone', 'D': 'Trimethoprim'}   \n",
       "1                                        {'A': 'Cyclic vomiting syndrome', 'B': 'Gastroenteritis', 'C': 'Hypertrophic pyloric stenosis', 'D': 'Gastroesophageal reflux disease'}   \n",
       "2                                                                                                        {'A': 'Diazepam', 'B': 'Paroxetine', 'C': 'Zolpidem', 'D': 'Trazodone'}   \n",
       "3  {'A': 'Obtain an abdominal CT scan', 'B': 'Obtain a urine analysis and urine culture', 'C': 'Begin intravenous treatment with ceftazidime', 'D': 'No treatment is necessary'}   \n",
       "4                                                                                    {'A': 'Hypoperfusion', 'B': 'Hyperglycemia', 'C': 'Metabolic acidosis', 'D': 'Hypokalemia'}   \n",
       "\n",
       "  meta_info                                          reply  is correct reply  \\\n",
       "0     step1                                   Ceftriaxone.                 1   \n",
       "1   step2&3                   A: Cyclic vomiting syndrome.                 1   \n",
       "2     step1                                  B: Paroxetine                 0   \n",
       "3   step2&3  B: Obtain a urine analysis and urine culture.                 1   \n",
       "4     step1                         C: Metabolic acidosis.                 0   \n",
       "\n",
       "                                                                                                                                                                                                                                                                                                                                                                                                                                                                                                                                                                                                                                                                                                                                                                                         reply_CoT  \n",
       "0                                                                                                                        Let's take it step by step. \\n\\nThe patient is a 21-year-old sexually active male who presents with fever, pain during urination, and inflammation and pain in the right knee. A culture of the joint fluid shows a bacteria that does not ferment maltose and has no polysaccharide capsule. \\n\\nThe physician orders antibiotic therapy for the patient. The mechanism of action of the medication given blocks cell wall synthesis. \\n\\nThe options given are Gentamicin, Ciprofloxacin, Ceftriaxone, and Trimethoprim. \\n\\nOut of these options, the medication that blocks cell wall synthesis is Ceftriaxone. \\n\\nTherefore, the correct answer is: C) Ceftriaxone.  \n",
       "1                                               Let's take it step by step. The patient is a 5-year-old girl who has been experiencing multiple episodes of nausea and vomiting for about 2 hours. She has had 6-8 episodes of bilious vomiting and abdominal pain. She has missed several days of school and has been hospitalized twice in the past 6 months for dehydration due to similar episodes of vomiting and nausea. The patient appears emaciated and has dry mucous membranes. Her temperature is normal, but her pulse is elevated, and her blood pressure is low. Abdominal examination shows mild diffuse tenderness with no guarding or rebound. Based on these symptoms, which of the following is the most likely diagnosis?\\n\\nThe correct answer is: Cyclic vomiting syndrome.  \n",
       "2  Let's take it step by step. The patient is presenting with difficulty falling asleep, diminished appetite, tiredness, irritability, and feelings of hopelessness. She has also lost weight and is drinking wine instead of eating dinner. She denies having suicidal thoughts. The best course of treatment for this patient would be to screen her for depression and anxiety. If she is diagnosed with depression, the best course of treatment would be psychotherapy and antidepressant medication. \\n\\nThe correct answer is: We cannot determine the best course of treatment without a proper diagnosis. The patient should be screened for depression and anxiety, and if diagnosed with depression, psychotherapy and antidepressant medication would be the best course of treatment.  \n",
       "3                                                                                                                                                                                                                                                                                                                                                                                                                                    Let's take it step by step. The patient is presenting with symptoms of a urinary tract infection (UTI) and fever, which could indicate pyelonephritis. The next best step in management would be to obtain a urine analysis and urine culture to confirm the diagnosis of UTI. Therefore, the correct answer is B: Obtain a urine analysis and urine culture.  \n",
       "4                                                                                                         Let's take it step by step. The patient is presenting with confusion, inability to speak properly, and a fruity odor in his breath. His blood pressure is low, pulse is high, and he is taking rapid, deep breaths. His arterial blood gas analysis shows metabolic acidosis with a low pH, low bicarbonate, and low PCO2. His glucose level is high, and his potassium level is normal. \\n\\nThe first step in treating this patient should be to address the metabolic acidosis, which is a life-threatening condition. This can be done by administering intravenous fluids and insulin to lower the blood glucose level. \\n\\nTherefore, the correct answer is: C) Metabolic acidosis.  "
      ]
     },
     "execution_count": 12,
     "metadata": {},
     "output_type": "execute_result"
    }
   ],
   "source": [
    "df_dev_sample.head()"
   ]
  },
  {
   "cell_type": "markdown",
   "metadata": {},
   "source": [
    "We'll need a different is_similar function now, to get the correct string from the long answer."
   ]
  },
  {
   "cell_type": "code",
   "execution_count": null,
   "metadata": {},
   "outputs": [],
   "source": [
    "def is_similar_cot(gold_answer, gold_answer_idx, answer):\n",
    "        if \"correct answer is\" not in answer:\n",
    "              answer = answer.split(\")\")[-1]\n",
    "        answer = answer.split(\"correct answer is\")[-1]\n",
    "        if len(answer) == 1:\n",
    "            return 1 if gold_answer_idx  == answer else 0\n",
    "        gold_answer = gold_answer.lower()\n",
    "        answer = answer.lower()\n",
    "        return 1 if gold_answer in  answer or answer in gold_answer else 0"
   ]
  },
  {
   "cell_type": "code",
   "execution_count": null,
   "metadata": {},
   "outputs": [
    {
     "data": {
      "text/plain": [
       "is correct reply CoT\n",
       "1    0.6\n",
       "0    0.4\n",
       "Name: proportion, dtype: float64"
      ]
     },
     "execution_count": 14,
     "metadata": {},
     "output_type": "execute_result"
    }
   ],
   "source": [
    "df_dev_sample[\"is correct reply CoT\"] = df_dev_sample.apply(lambda row:is_similar_cot(row[\"answer\"], row[\"answer_idx\"], row[\"reply_CoT\"]), axis=1)\n",
    "df_dev_sample[\"is correct reply CoT\"].value_counts(normalize=True)"
   ]
  },
  {
   "cell_type": "markdown",
   "metadata": {},
   "source": [
    "Let's create an example! Note what dataset we're using..."
   ]
  },
  {
   "cell_type": "code",
   "execution_count": null,
   "metadata": {},
   "outputs": [
    {
     "name": "stdout",
     "output_type": "stream",
     "text": [
      "A 23-year-old pregnant woman at 22 weeks gestation presents with burning upon urination. She states it started 1 day ago and has been worsening despite drinking more water and taking cranberry extract. She otherwise feels well and is followed by a doctor for her pregnancy. Her temperature is 97.7°F (36.5°C), blood pressure is 122/77 mmHg, pulse is 80/min, respirations are 19/min, and oxygen saturation is 98% on room air. Physical exam is notable for an absence of costovertebral angle tenderness and a gravid uterus. Which of the following is the best treatment for this patient?\n",
      "Let's take it step by step:\n",
      "\n",
      "Step 1: Examine the case and suggest treatments without considering the 4 options you got.\n",
      "The patient is a 23-year-old pregnant woman at 22 weeks gestation who presents with burning upon urination. She has been drinking more water and taking cranberry extract, but her symptoms have been worsening. Her vital signs are within normal limits, and physical exam is notable for an absence of costovertebral angle tenderness and a gravid uterus. Given that the patient is pregnant, some antibiotics may not be safe for the fetus. Therefore, the best treatment for this patient should be an antibiotic that is safe for use during pregnancy and effective against urinary tract infections.\n",
      "\n",
      "Step 2: Return to the options and decide which is best.\n",
      "A. Ampicillin: Ampicillin is a penicillin antibiotic that is generally safe for use during pregnancy. However, it is not the best choice for treating urinary tract infections as it is not effective against the most common bacteria that cause UTIs.\n",
      "\n",
      "B. Ceftriaxone: Ceftriaxone is a cephalosporin antibiotic that is generally safe for use during pregnancy. However, it is not the best choice for treating urinary tract infections as it is not effective against the most common bacteria that cause UTIs.\n",
      "\n",
      "C. Doxycycline: Doxycycline is a tetracycline antibiotic that is not safe for use during pregnancy as it can harm the fetus's teeth and bones. Therefore, it is not the best choice for treating urinary tract infections in pregnant women.\n",
      "\n",
      "D. Nitrofurantoin: Nitrofurantoin is an antibiotic that is safe for use during pregnancy and is effective against the most common bacteria that cause UTIs. Therefore, it is the best treatment option for this patient.\n",
      "\n",
      "The correct answer is D: Nitrofurantoin.\n"
     ]
    }
   ],
   "source": [
    "from tech_train_functions import create_example_CoT\n",
    "question,answer,options = df_train.iloc[0][\"question\"],df_train.iloc[0][\"answer\"],df_train.iloc[0][\"options\"]\n",
    "system_message_explainer = \"Please explain step by step how to answer this question.\\\n",
    "Start with 'let's take it step by step' and end with 'the correct answer is:' and then the correct answer idx and the correct answer.\\\n",
    "First examine the case, and suggest treatments without considering the 4 options you got. Only then, return to the options and decide wich is best\"\n",
    "\n",
    "example = create_example_CoT(system_message_explainer,question,options,answer, client=client)\n",
    "print(df_train.iloc[0][\"question\"])\n",
    "print(example[1])\n"
   ]
  },
  {
   "cell_type": "code",
   "execution_count": null,
   "metadata": {},
   "outputs": [
    {
     "name": "stdout",
     "output_type": "stream",
     "text": [
      "A 23-year-old pregnant woman at 22 weeks gestation presents with burning upon urination. She states it started 1 day ago and has been worsening despite drinking more water and taking cranberry extract. She otherwise feels well and is followed by a doctor for her pregnancy. Her temperature is 97.7°F (36.5°C), blood pressure is 122/77 mmHg, pulse is 80/min, respirations are 19/min, and oxygen saturation is 98% on room air. Physical exam is notable for an absence of costovertebral angle tenderness and a gravid uterus. Which of the following is the best treatment for this patient?\n",
      "Let's take it step by step to answer this question:\n",
      "\n",
      "Step 1: Read the question carefully and identify the key information. A 23-year-old pregnant woman at 22 weeks gestation presents with burning upon urination. She has been experiencing this for 1 day and it has been worsening despite drinking more water and taking cranberry extract. She is otherwise healthy and is being followed by a doctor for her pregnancy. Her vital signs are stable and physical exam is notable for an absence of costovertebral angle tenderness and a gravid uterus.\n",
      "\n",
      "Step 2: Identify the possible treatment options. The question provides four options: Ampicillin, Ceftriaxone, Doxycycline, and Nitrofurantoin.\n",
      "\n",
      "Step 3: Eliminate the treatment options that are not appropriate for a pregnant woman. Ampicillin, Ceftriaxone, and Doxycycline are not recommended for use in pregnant women.\n",
      "\n",
      "Step 4: Determine the best treatment option for a pregnant woman with a urinary tract infection. Nitrofurantoin is a commonly used antibiotic for the treatment of urinary tract infections in pregnant women.\n",
      "\n",
      "Step 5: Verify the correct answer. The correct answer is D: Nitrofurantoin.\n",
      "\n",
      "Therefore, the correct answer is D: Nitrofurantoin.\n"
     ]
    }
   ],
   "source": [
    "print(df_train.iloc[0][\"question\"])\n",
    "print(example[1])"
   ]
  },
  {
   "cell_type": "markdown",
   "metadata": {},
   "source": [
    "Running again with CoT example:"
   ]
  },
  {
   "cell_type": "code",
   "execution_count": null,
   "metadata": {},
   "outputs": [
    {
     "name": "stdout",
     "output_type": "stream",
     "text": [
      "Input:A 21-year-old sexually active male complains of fever, pain during urination, and inflammation and pain in the right knee. A culture of the joint fluid shows a bacteria that does not ferment maltose and has no polysaccharide capsule. The physician orders antibiotic therapy for the patient. The mechanism of action of action of the medication given blocks cell wall synthesis, which of the following was given? {'A': 'Gentamicin', 'B': 'Ciprofloxacin', 'C': 'Ceftriaxone', 'D': 'Trimethoprim'}\n",
      "Example:Let's take it step by step:\n",
      "\n",
      "Step 1: Examine the case and suggest treatments without considering the 4 options you got.\n",
      "The patient is a 23-year-old pregnant woman at 22 weeks gestation who presents with burning upon urination. She has been drinking more water and taking cranberry extract, but her symptoms have been worsening. Her vital signs are within normal limits, and physical exam is notable for an absence of costovertebral angle tenderness and a gravid uterus. Given that the patient is pregnant, some antibiotics may not be safe for the fetus. Therefore, the best treatment for this patient should be an antibiotic that is safe for use during pregnancy and effective against urinary tract infections.\n",
      "\n",
      "Step 2: Return to the options and decide which is best.\n",
      "A. Ampicillin: Ampicillin is a penicillin antibiotic that is generally safe for use during pregnancy. However, it is not the best choice for treating urinary tract infections as it is not effective against the most common bacteria that cause UTIs.\n",
      "\n",
      "B. Ceftriaxone: Ceftriaxone is a cephalosporin antibiotic that is generally safe for use during pregnancy. However, it is not the best choice for treating urinary tract infections as it is not effective against the most common bacteria that cause UTIs.\n",
      "\n",
      "C. Doxycycline: Doxycycline is a tetracycline antibiotic that is not safe for use during pregnancy as it can harm the fetus's teeth and bones. Therefore, it is not the best choice for treating urinary tract infections in pregnant women.\n",
      "\n",
      "D. Nitrofurantoin: Nitrofurantoin is an antibiotic that is safe for use during pregnancy and is effective against the most common bacteria that cause UTIs. Therefore, it is the best treatment option for this patient.\n",
      "\n",
      "The correct answer is D: Nitrofurantoin.\n"
     ]
    },
    {
     "name": "stderr",
     "output_type": "stream",
     "text": [
      "100%|██████████| 40/40 [03:14<00:00,  4.86s/it]\n"
     ]
    }
   ],
   "source": [
    "system_message_CoT = \"You're a medical expert answering medical questions. Please answer step by step. Start with 'let's take it step by step'\\\n",
    "and end with 'the correct answer is:' and then the correct answer. Please allways end with this phrase\"\n",
    "\n",
    "sample_list = (df_dev_sample[\"question\"]+\" \"+\n",
    "                df_dev_sample[\"options\"].astype(str)).tolist()\n",
    "print(\"Input:{}\".format(sample_list[0]))\n",
    "print(\"Example:{}\".format(example[1]))\n",
    "\n",
    "\n",
    "replies = []\n",
    "for q in tqdm(sample_list):\n",
    "    ans = call_open_ai(system_message_CoT, q, examples=[example], client=client)\n",
    "    replies.append(ans)\n",
    "df_dev_sample.loc[:,\"reply_CoT\"] = replies"
   ]
  },
  {
   "cell_type": "markdown",
   "metadata": {},
   "source": [
    "Now let's check if we improved:"
   ]
  },
  {
   "cell_type": "code",
   "execution_count": null,
   "metadata": {},
   "outputs": [
    {
     "data": {
      "text/plain": [
       "is correct reply CoT\n",
       "1    0.6\n",
       "0    0.4\n",
       "Name: proportion, dtype: float64"
      ]
     },
     "execution_count": 15,
     "metadata": {},
     "output_type": "execute_result"
    }
   ],
   "source": [
    "df_dev_sample[\"is correct reply CoT\"] = df_dev_sample.apply(lambda row:is_similar_cot(row[\"answer\"], row[\"answer_idx\"], row[\"reply_CoT\"]), axis=1)\n",
    "df_dev_sample[\"is correct reply CoT\"].value_counts(normalize=True)"
   ]
  },
  {
   "cell_type": "markdown",
   "metadata": {},
   "source": [
    "Better! See if you can improve Further by changing CoT prompt or adding additional examples. Don't forget to re-create the example accordingly. You can also try adding more examples and see if it improves the result."
   ]
  },
  {
   "cell_type": "code",
   "execution_count": null,
   "metadata": {},
   "outputs": [],
   "source": [
    "#For test time:\n",
    "\n",
    "question = <insert question here>\n",
    "options = <insert question here>\n",
    "q = question+ \" \"+str(options)\n",
    "call_open_ai(system_message_CoT, q, examples=[example], client=client)\n"
   ]
  }
 ],
 "metadata": {
  "kernelspec": {
   "display_name": "Python 3",
   "language": "python",
   "name": "python3"
  },
  "language_info": {
   "codemirror_mode": {
    "name": "ipython",
    "version": 3
   },
   "file_extension": ".py",
   "mimetype": "text/x-python",
   "name": "python",
   "nbconvert_exporter": "python",
   "pygments_lexer": "ipython3",
   "version": "3.10.13"
  }
 },
 "nbformat": 4,
 "nbformat_minor": 2
}
