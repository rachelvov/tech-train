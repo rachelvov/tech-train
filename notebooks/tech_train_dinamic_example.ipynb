{
 "cells": [
  {
   "cell_type": "code",
   "execution_count": 1,
   "metadata": {},
   "outputs": [],
   "source": [
    "import pandas as pd\n",
    "from tqdm import tqdm\n",
    "pd.set_option('max_colwidth', 10000)\n",
    "pd.options.mode.chained_assignment = None\n",
    "df_dev = pd.read_csv(\"../data/MedQA_dev.csv\", index_col=0)\n",
    "df_train = pd.read_csv(\"../data/MedQA_train.csv\", index_col=0)\n"
   ]
  },
  {
   "cell_type": "code",
   "execution_count": 13,
   "metadata": {},
   "outputs": [],
   "source": [
    "#using Azure endpoint:\n",
    "import openai\n",
    "import os\n",
    "\n",
    "openai.api_type = \"azure\"\n",
    "openai.api_base = os.getenv(\"OPENAI_API_BASE\")\n",
    "openai.api_version = \"2023-07-01-preview\"\n",
    "openai.api_key = os.getenv(\"OPENAI_API_KEY\")\n",
    "from tech_train_functions import call_open_ai\n",
    "client = None"
   ]
  },
  {
   "cell_type": "code",
   "execution_count": 2,
   "metadata": {},
   "outputs": [],
   "source": [
    "#using Rachel's openai:\n",
    "from openai import OpenAI\n",
    "client = OpenAI()\n",
    "from tech_train_functions import call_open_ai"
   ]
  },
  {
   "cell_type": "markdown",
   "metadata": {},
   "source": [
    "Let's focus on question 3 which we weren't able to solve so far, and call it the hard study case:"
   ]
  },
  {
   "cell_type": "code",
   "execution_count": 17,
   "metadata": {},
   "outputs": [
    {
     "data": {
      "text/html": [
       "<div>\n",
       "<style scoped>\n",
       "    .dataframe tbody tr th:only-of-type {\n",
       "        vertical-align: middle;\n",
       "    }\n",
       "\n",
       "    .dataframe tbody tr th {\n",
       "        vertical-align: top;\n",
       "    }\n",
       "\n",
       "    .dataframe thead th {\n",
       "        text-align: right;\n",
       "    }\n",
       "</style>\n",
       "<table border=\"1\" class=\"dataframe\">\n",
       "  <thead>\n",
       "    <tr style=\"text-align: right;\">\n",
       "      <th></th>\n",
       "      <th>4</th>\n",
       "    </tr>\n",
       "  </thead>\n",
       "  <tbody>\n",
       "    <tr>\n",
       "      <th>question</th>\n",
       "      <td>A 19-year-old boy presents with confusion and the inability to speak properly. The patient's mother says that, a few hours ago, she noticed a change in the way he talked and that he appeared to be in a daze. He then lost consciousness, and she managed to get him to the hospital. She is also concerned about the weight he has lost over the past few months. His blood pressure is 80/55 mm Hg, pulse is 115/min, temperature is 37.2°C (98.9°F), and respiratory rate is 18/min. On physical examination, the patient is taking rapid, deep breaths, and his breath has a fruity odor. Dry mucous membranes and dry skin are noticeable. He is unable to cooperate for a mental status examination. Results of his arterial blood gas analysis are shown.\\nPco2 16 mm Hg\\nHCO3–  10 mEq/L\\nPo2 91 mm Hg\\npH 7.1\\nHis glucose level is 450 mg/dL, and his potassium level is 4.1 mEq/L. Which of the following should be treated first in this patient?</td>\n",
       "    </tr>\n",
       "    <tr>\n",
       "      <th>answer</th>\n",
       "      <td>Hypoperfusion</td>\n",
       "    </tr>\n",
       "    <tr>\n",
       "      <th>answer_idx</th>\n",
       "      <td>A</td>\n",
       "    </tr>\n",
       "    <tr>\n",
       "      <th>options</th>\n",
       "      <td>{'A': 'Hypoperfusion', 'B': 'Hyperglycemia', 'C': 'Metabolic acidosis', 'D': 'Hypokalemia'}</td>\n",
       "    </tr>\n",
       "    <tr>\n",
       "      <th>meta_info</th>\n",
       "      <td>step1</td>\n",
       "    </tr>\n",
       "  </tbody>\n",
       "</table>\n",
       "</div>"
      ],
      "text/plain": [
       "                                                                                                                                                                                                                                                                                                                                                                                                                                                                                                                                                                                                                                                                                                                                                                                                                                                                                                                                                                          4\n",
       "question    A 19-year-old boy presents with confusion and the inability to speak properly. The patient's mother says that, a few hours ago, she noticed a change in the way he talked and that he appeared to be in a daze. He then lost consciousness, and she managed to get him to the hospital. She is also concerned about the weight he has lost over the past few months. His blood pressure is 80/55 mm Hg, pulse is 115/min, temperature is 37.2°C (98.9°F), and respiratory rate is 18/min. On physical examination, the patient is taking rapid, deep breaths, and his breath has a fruity odor. Dry mucous membranes and dry skin are noticeable. He is unable to cooperate for a mental status examination. Results of his arterial blood gas analysis are shown.\\nPco2 16 mm Hg\\nHCO3–  10 mEq/L\\nPo2 91 mm Hg\\npH 7.1\\nHis glucose level is 450 mg/dL, and his potassium level is 4.1 mEq/L. Which of the following should be treated first in this patient?\n",
       "answer                                                                                                                                                                                                                                                                                                                                                                                                                                                                                                                                                                                                                                                                                                                                                                                                                                                                                                                                                        Hypoperfusion\n",
       "answer_idx                                                                                                                                                                                                                                                                                                                                                                                                                                                                                                                                                                                                                                                                                                                                                                                                                                                                                                                                                                A\n",
       "options                                                                                                                                                                                                                                                                                                                                                                                                                                                                                                                                                                                                                                                                                                                                                                                                                                                                         {'A': 'Hypoperfusion', 'B': 'Hyperglycemia', 'C': 'Metabolic acidosis', 'D': 'Hypokalemia'}\n",
       "meta_info                                                                                                                                                                                                                                                                                                                                                                                                                                                                                                                                                                                                                                                                                                                                                                                                                                                                                                                                                             step1"
      ]
     },
     "execution_count": 17,
     "metadata": {},
     "output_type": "execute_result"
    }
   ],
   "source": [
    "hard_study_case = df_dev.iloc[4]\n",
    "pd.DataFrame(hard_study_case)"
   ]
  },
  {
   "cell_type": "markdown",
   "metadata": {},
   "source": [
    "Let's try using BM25 search to find the most similar question to this in the test split.\n",
    "First let's create BM25 search DB:"
   ]
  },
  {
   "cell_type": "code",
   "execution_count": 15,
   "metadata": {},
   "outputs": [],
   "source": [
    "#creating BM25 search DB:\n",
    "from rank_bm25 import BM25Okapi\n",
    "import numpy as np\n",
    "\n",
    "questions_corpus=df_train['question'].tolist()\n",
    "tokenized_question_corpus = [doc.split(\" \") for doc in questions_corpus]\n",
    "bm25_questions = BM25Okapi(tokenized_question_corpus)\n",
    "\n",
    "def search_similar(query, bm25_index):\n",
    "    query=query.lower()\n",
    "    tokenized_query = query.split(\" \")\n",
    "    doc_scores = bm25_index.get_scores(tokenized_query)\n",
    "    index=np.argsort(-doc_scores)[:5][0]\n",
    "    return df_train.iloc[index]\n"
   ]
  },
  {
   "cell_type": "markdown",
   "metadata": {},
   "source": [
    "Done! let's search for closest question to our example:"
   ]
  },
  {
   "cell_type": "code",
   "execution_count": 18,
   "metadata": {},
   "outputs": [
    {
     "data": {
      "text/html": [
       "<div>\n",
       "<style scoped>\n",
       "    .dataframe tbody tr th:only-of-type {\n",
       "        vertical-align: middle;\n",
       "    }\n",
       "\n",
       "    .dataframe tbody tr th {\n",
       "        vertical-align: top;\n",
       "    }\n",
       "\n",
       "    .dataframe thead th {\n",
       "        text-align: right;\n",
       "    }\n",
       "</style>\n",
       "<table border=\"1\" class=\"dataframe\">\n",
       "  <thead>\n",
       "    <tr style=\"text-align: right;\">\n",
       "      <th></th>\n",
       "      <th>7116</th>\n",
       "    </tr>\n",
       "  </thead>\n",
       "  <tbody>\n",
       "    <tr>\n",
       "      <th>question</th>\n",
       "      <td>A 19-year-old man presents to the emergency department after a motor vehicle accident. The patient reports left shoulder pain that worsens with deep inspiration. Medical history is significant for a recent diagnosis of infectious mononucleosis. His temperature is 99°F (37.2°C), blood pressure is 80/55 mmHg, pulse is 115/min, and respiratory rate is 22/min. On physical exam, there is abdominal guarding, abdominal tenderness in the left upper quadrant, and rebound tenderness. The patient’s mucous membranes are dry and skin turgor is reduced. Which of the following most likely represents the acute changes in renal plasma flow (RPF) and glomerular filtration rate (GFR) in this patient?</td>\n",
       "    </tr>\n",
       "    <tr>\n",
       "      <th>answer</th>\n",
       "      <td>Decreased RPF and no change in GFR</td>\n",
       "    </tr>\n",
       "    <tr>\n",
       "      <th>answer_idx</th>\n",
       "      <td>A</td>\n",
       "    </tr>\n",
       "    <tr>\n",
       "      <th>options</th>\n",
       "      <td>{'A': 'Decreased RPF and no change in GFR', 'B': 'No change in RPF and decreased GFR', 'C': 'No change in RPF and increased GFR', 'D': 'No change in RPF and GFR'}</td>\n",
       "    </tr>\n",
       "    <tr>\n",
       "      <th>meta_info</th>\n",
       "      <td>step1</td>\n",
       "    </tr>\n",
       "  </tbody>\n",
       "</table>\n",
       "</div>"
      ],
      "text/plain": [
       "                                                                                                                                                                                                                                                                                                                                                                                                                                                                                                                                                                                                                                                                                                                          7116\n",
       "question    A 19-year-old man presents to the emergency department after a motor vehicle accident. The patient reports left shoulder pain that worsens with deep inspiration. Medical history is significant for a recent diagnosis of infectious mononucleosis. His temperature is 99°F (37.2°C), blood pressure is 80/55 mmHg, pulse is 115/min, and respiratory rate is 22/min. On physical exam, there is abdominal guarding, abdominal tenderness in the left upper quadrant, and rebound tenderness. The patient’s mucous membranes are dry and skin turgor is reduced. Which of the following most likely represents the acute changes in renal plasma flow (RPF) and glomerular filtration rate (GFR) in this patient?\n",
       "answer                                                                                                                                                                                                                                                                                                                                                                                                                                                                                                                                                                                                                                                                                      Decreased RPF and no change in GFR\n",
       "answer_idx                                                                                                                                                                                                                                                                                                                                                                                                                                                                                                                                                                                                                                                                                                                   A\n",
       "options                                                                                                                                                                                                                                                                                                                                                                                                                                                                                                                                                     {'A': 'Decreased RPF and no change in GFR', 'B': 'No change in RPF and decreased GFR', 'C': 'No change in RPF and increased GFR', 'D': 'No change in RPF and GFR'}\n",
       "meta_info                                                                                                                                                                                                                                                                                                                                                                                                                                                                                                                                                                                                                                                                                                                step1"
      ]
     },
     "execution_count": 18,
     "metadata": {},
     "output_type": "execute_result"
    }
   ],
   "source": [
    "most_similar_in_question = search_similar(hard_study_case[\"question\"], bm25_questions)\n",
    "pd.DataFrame(most_similar_in_question)"
   ]
  },
  {
   "cell_type": "markdown",
   "metadata": {},
   "source": [
    "What if we used the answer options only for the search db?"
   ]
  },
  {
   "cell_type": "code",
   "execution_count": 19,
   "metadata": {},
   "outputs": [],
   "source": [
    "options_corpus=df_train['options'].astype(str).tolist()\n",
    "tokenized_options_corpus = [doc.split(\" \") for doc in options_corpus]\n",
    "bm25_options = BM25Okapi(tokenized_options_corpus)"
   ]
  },
  {
   "cell_type": "code",
   "execution_count": 20,
   "metadata": {},
   "outputs": [
    {
     "data": {
      "text/html": [
       "<div>\n",
       "<style scoped>\n",
       "    .dataframe tbody tr th:only-of-type {\n",
       "        vertical-align: middle;\n",
       "    }\n",
       "\n",
       "    .dataframe tbody tr th {\n",
       "        vertical-align: top;\n",
       "    }\n",
       "\n",
       "    .dataframe thead th {\n",
       "        text-align: right;\n",
       "    }\n",
       "</style>\n",
       "<table border=\"1\" class=\"dataframe\">\n",
       "  <thead>\n",
       "    <tr style=\"text-align: right;\">\n",
       "      <th></th>\n",
       "      <th>6718</th>\n",
       "    </tr>\n",
       "  </thead>\n",
       "  <tbody>\n",
       "    <tr>\n",
       "      <th>question</th>\n",
       "      <td>A 67-year-old man presents to his primary care physician because of weak urine stream, and increasing difficulty in initiating and stopping urination. He also reports of mild generalized body aches and weakness during the day. The past medical history includes diabetes mellitus type 2 for 35 years and essential hypertension for 19 years. The medication list includes metformin, vildagliptin, and enalapril. The vital signs include: temperature 36.7°C (98.1°F), blood pressure 151/82 mm Hg, and pulse 88/min. The physical examination is remarkable for markedly enlarged, firm prostate without nodules. The laboratory test results are as follows:\\nSerum sodium 142 mEq/L\\nSerum potassium 5.7 mEq/L\\nSerum chloride 115 mEq/L\\nSerum bicarbonate 17 mEq/L\\nSerum creatinine 0.9 mg/dL\\nArterial pH 7.31\\n  Urine pH 5.3\\nUrine sodium 59 mEq/L\\nUrine potassium 6.2 mEq/L\\nUrine chloride 65 mEq/L\\nWhich of the following most likely explains the patient’s findings?</td>\n",
       "    </tr>\n",
       "    <tr>\n",
       "      <th>answer</th>\n",
       "      <td>Type 4 renal tubular acidosis</td>\n",
       "    </tr>\n",
       "    <tr>\n",
       "      <th>answer_idx</th>\n",
       "      <td>B</td>\n",
       "    </tr>\n",
       "    <tr>\n",
       "      <th>options</th>\n",
       "      <td>{'A': 'Type 1 renal tubular acidosis', 'B': 'Type 4 renal tubular acidosis', 'C': 'Type 2 renal tubular acidosis', 'D': 'Fanconi syndrome'}</td>\n",
       "    </tr>\n",
       "    <tr>\n",
       "      <th>meta_info</th>\n",
       "      <td>step2&amp;3</td>\n",
       "    </tr>\n",
       "  </tbody>\n",
       "</table>\n",
       "</div>"
      ],
      "text/plain": [
       "                                                                                                                                                                                                                                                                                                                                                                                                                                                                                                                                                                                                                                                                                                                                                                                                                                                                                                                                                                                                     6718\n",
       "question    A 67-year-old man presents to his primary care physician because of weak urine stream, and increasing difficulty in initiating and stopping urination. He also reports of mild generalized body aches and weakness during the day. The past medical history includes diabetes mellitus type 2 for 35 years and essential hypertension for 19 years. The medication list includes metformin, vildagliptin, and enalapril. The vital signs include: temperature 36.7°C (98.1°F), blood pressure 151/82 mm Hg, and pulse 88/min. The physical examination is remarkable for markedly enlarged, firm prostate without nodules. The laboratory test results are as follows:\\nSerum sodium 142 mEq/L\\nSerum potassium 5.7 mEq/L\\nSerum chloride 115 mEq/L\\nSerum bicarbonate 17 mEq/L\\nSerum creatinine 0.9 mg/dL\\nArterial pH 7.31\\n  Urine pH 5.3\\nUrine sodium 59 mEq/L\\nUrine potassium 6.2 mEq/L\\nUrine chloride 65 mEq/L\\nWhich of the following most likely explains the patient’s findings?\n",
       "answer                                                                                                                                                                                                                                                                                                                                                                                                                                                                                                                                                                                                                                                                                                                                                                                                                                                                                                                                                                      Type 4 renal tubular acidosis\n",
       "answer_idx                                                                                                                                                                                                                                                                                                                                                                                                                                                                                                                                                                                                                                                                                                                                                                                                                                                                                                                                                                                              B\n",
       "options                                                                                                                                                                                                                                                                                                                                                                                                                                                                                                                                                                                                                                                                                                                                                                                                                                                       {'A': 'Type 1 renal tubular acidosis', 'B': 'Type 4 renal tubular acidosis', 'C': 'Type 2 renal tubular acidosis', 'D': 'Fanconi syndrome'}\n",
       "meta_info                                                                                                                                                                                                                                                                                                                                                                                                                                                                                                                                                                                                                                                                                                                                                                                                                                                                                                                                                                                         step2&3"
      ]
     },
     "execution_count": 20,
     "metadata": {},
     "output_type": "execute_result"
    }
   ],
   "source": [
    "most_similar_in_answer = search_similar(str(hard_study_case[\"options\"]), bm25_options)\n",
    "pd.DataFrame(most_similar_in_answer)"
   ]
  },
  {
   "cell_type": "markdown",
   "metadata": {},
   "source": [
    "Let's see if these examples are better than a random one!\n",
    "First let's create the CoT example:"
   ]
  },
  {
   "cell_type": "code",
   "execution_count": 23,
   "metadata": {},
   "outputs": [
    {
     "name": "stdout",
     "output_type": "stream",
     "text": [
      "Let's take it step by step to answer this question:\n",
      "\n",
      "1. Read the question carefully and understand the patient's presentation. The 67-year-old man is experiencing weak urine stream, difficulty in initiating and stopping urination, mild generalized body aches, and weakness during the day. He has a past medical history of diabetes mellitus type 2 and essential hypertension.\n",
      "\n",
      "2. Look at the vital signs and laboratory test results. The vital signs include a normal temperature, elevated blood pressure, and a slightly elevated pulse. The laboratory test results show normal serum sodium and creatinine levels, elevated serum potassium, low serum bicarbonate, and an acidic arterial pH. The urine pH is also acidic, and there are elevated levels of urine sodium, potassium, and chloride.\n",
      "\n",
      "3. Analyze the findings. The patient's symptoms, along with the laboratory test results, suggest a renal tubular acidosis (RTA). RTA is a condition where the kidneys are unable to effectively excrete acid, leading to an accumulation of acid in the body.\n",
      "\n",
      "4. Consider the different types of RTA. There are four types of RTA: Type 1, Type 2, Type 3, and Type 4. Type 1 RTA is characterized by a defect in distal tubular acid secretion, Type 2 RTA is characterized by a defect in proximal tubular bicarbonate reabsorption, Type 3 RTA is associated with multiple myeloma, and Type 4 RTA is associated with hypoaldosteronism or aldosterone resistance.\n",
      "\n",
      "5. Evaluate the patient's findings. The patient's laboratory test results show low serum bicarbonate, an acidic arterial pH, and elevated urine sodium. These findings are consistent with Type 4 RTA, which is associated with hypoaldosteronism or aldosterone resistance.\n",
      "\n",
      "6. Compare the patient's presentation with the answer choices. The correct answer choices are: A) Type 1 renal tubular acidosis, B) Type 4 renal tubular acidosis, C) Type 2 renal tubular acidosis, and D) Fanconi syndrome. Based on the patient's presentation and laboratory test results, Type 4 renal tubular acidosis is the most likely explanation.\n",
      "\n",
      "7. Confirm the correct answer. The correct answer is: B) Type 4 renal tubular acidosis.\n",
      "\n",
      "In summary, the patient's symptoms, along with the laboratory test results, suggest Type 4 renal tubular acidosis as the most likely explanation for his findings.\n"
     ]
    }
   ],
   "source": [
    "from tech_train_functions import create_example_CoT\n",
    "question,answer,options = question,answer,options = most_similar_in_answer[\"question\"],most_similar_in_answer[\"answer\"],most_similar_in_answer[\"options\"]\n",
    "[\"question\"],most_similar_in_answer[\"answer\"],most_similar_in_question[\"options\"]\n",
    "system_message_explainer = \"Please explain step by step how to answer this question.\\\n",
    "Start with 'let's take it step by step' and end with 'the correct answer is:' and then the correct answer idx and the correct answer\"\n",
    "example = create_example_CoT(system_message_explainer,question,options,answer, client=client)\n",
    "print(example[1])"
   ]
  },
  {
   "cell_type": "code",
   "execution_count": 24,
   "metadata": {},
   "outputs": [
    {
     "data": {
      "text/plain": [
       "\"Let's take it step by step to answer this question:\\n\\n1. Read the question carefully and understand the patient's presentation. The 19-year-old boy is presenting with confusion, inability to speak properly, weight loss, and a change in his level of consciousness. His vital signs show low blood pressure, elevated pulse, and normal temperature and respiratory rate. Physical examination reveals rapid, deep breaths with a fruity odor, dry mucous membranes, and dry skin.\\n\\n2. Look at the arterial blood gas analysis results. The results show a low bicarbonate level (HCO3-) of 10 mEq/L, a low partial pressure of carbon dioxide (Pco2) of 16 mm Hg, and a low pH of 7.1. These findings indicate metabolic acidosis.\\n\\n3. Analyze the findings. The patient's symptoms, along with the arterial blood gas analysis results, suggest diabetic ketoacidosis (DKA). DKA is a life-threatening complication of uncontrolled diabetes characterized by hyperglycemia, metabolic acidosis, and ketone production.\\n\\n4. Consider the different aspects that need to be addressed in the management of DKA. In DKA, there are several components that need to be treated, including hypoperfusion, hyperglycemia, metabolic acidosis, and electrolyte imbalances.\\n\\n5. Evaluate the patient's condition and prioritize the treatment. In this case, the patient's blood pressure is low, indicating hypoperfusion. However, the most critical aspect that needs to be treated first in DKA is metabolic acidosis. Metabolic acidosis can lead to severe complications and must be corrected promptly.\\n\\n6. Compare the patient's presentation with the answer choices. The correct answer choices are: A) Hypoperfusion, B) Hyperglycemia, C) Metabolic acidosis, and D) Hypokalemia. Based on the patient's presentation and the need for immediate intervention, metabolic acidosis should be treated first.\\n\\n7. Confirm the correct answer. The correct answer is: C) Metabolic acidosis.\\n\\nIn summary, in this patient presenting with confusion, inability to speak properly, weight loss, and metabolic acidosis, the most critical aspect that needs to be treated first is the metabolic acidosis. Prompt correction of metabolic acidosis is essential in the management of diabetic ketoacidosis.\""
      ]
     },
     "execution_count": 24,
     "metadata": {},
     "output_type": "execute_result"
    }
   ],
   "source": [
    "system_message_CoT = \"You're a medical expert answering medical questions. Please answer step by step. Start with 'let's take it step by step'\\\n",
    "and end with 'the correct answer is:' and then the correct answer. Please allways end with this phrase\"\n",
    "\n",
    "q = hard_study_case[\"question\"] +\" \"+ str(hard_study_case[\"options\"])\n",
    "call_open_ai(system_message_CoT, q, examples=[example], client=client)\n"
   ]
  },
  {
   "cell_type": "code",
   "execution_count": null,
   "metadata": {},
   "outputs": [],
   "source": []
  }
 ],
 "metadata": {
  "kernelspec": {
   "display_name": "Python 3",
   "language": "python",
   "name": "python3"
  },
  "language_info": {
   "codemirror_mode": {
    "name": "ipython",
    "version": 3
   },
   "file_extension": ".py",
   "mimetype": "text/x-python",
   "name": "python",
   "nbconvert_exporter": "python",
   "pygments_lexer": "ipython3",
   "version": "3.10.13"
  }
 },
 "nbformat": 4,
 "nbformat_minor": 2
}
