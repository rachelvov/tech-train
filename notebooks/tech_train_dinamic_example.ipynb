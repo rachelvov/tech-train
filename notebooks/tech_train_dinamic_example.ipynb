{
 "cells": [
  {
   "cell_type": "code",
   "execution_count": null,
   "metadata": {},
   "outputs": [],
   "source": [
    "import pandas as pd\n",
    "from tqdm import tqdm\n",
    "pd.set_option('max_colwidth', 1000)\n",
    "pd.options.mode.chained_assignment = None\n",
    "df_dev = pd.read_csv(\"../data/MedQA_dev.csv\", index_col=0)\n",
    "df_train = pd.read_csv(\"../data/MedQA_train.csv\", index_col=0)\n"
   ]
  },
  {
   "cell_type": "markdown",
   "metadata": {},
   "source": [
    "Let's focus on question 2, and call it the girl study case:"
   ]
  },
  {
   "cell_type": "code",
   "execution_count": 9,
   "metadata": {},
   "outputs": [
    {
     "data": {
      "text/html": [
       "<div>\n",
       "<style scoped>\n",
       "    .dataframe tbody tr th:only-of-type {\n",
       "        vertical-align: middle;\n",
       "    }\n",
       "\n",
       "    .dataframe tbody tr th {\n",
       "        vertical-align: top;\n",
       "    }\n",
       "\n",
       "    .dataframe thead th {\n",
       "        text-align: right;\n",
       "    }\n",
       "</style>\n",
       "<table border=\"1\" class=\"dataframe\">\n",
       "  <thead>\n",
       "    <tr style=\"text-align: right;\">\n",
       "      <th></th>\n",
       "      <th>1</th>\n",
       "    </tr>\n",
       "  </thead>\n",
       "  <tbody>\n",
       "    <tr>\n",
       "      <th>question</th>\n",
       "      <td>A 5-year-old girl is brought to the emergency department by her mother because of multiple episodes of nausea and vomiting that last about 2 hours. During this period, she has had 6–8 episodes of bilious vomiting and abdominal pain. The vomiting was preceded by fatigue. The girl feels well between these episodes. She has missed several days of school and has been hospitalized 2 times during the past 6 months for dehydration due to similar episodes of vomiting and nausea. The patient has lived with her mother since her parents divorced 8 months ago. Her immunizations are up-to-date. She is at the 60th percentile for height and 30th percentile for weight. She appears emaciated. Her temperature is 36.8°C (98.8°F), pulse is 99/min, and blood pressure is 82/52 mm Hg. Examination shows dry mucous membranes. The lungs are clear to auscultation. Abdominal examination shows a soft abdomen with mild diffuse tenderness with no guarding or rebound. The remainder of the physical examination sho...</td>\n",
       "    </tr>\n",
       "    <tr>\n",
       "      <th>answer</th>\n",
       "      <td>Cyclic vomiting syndrome</td>\n",
       "    </tr>\n",
       "    <tr>\n",
       "      <th>answer_idx</th>\n",
       "      <td>A</td>\n",
       "    </tr>\n",
       "    <tr>\n",
       "      <th>options</th>\n",
       "      <td>{'A': 'Cyclic vomiting syndrome', 'B': 'Gastroenteritis', 'C': 'Hypertrophic pyloric stenosis', 'D': 'Gastroesophageal reflux disease'}</td>\n",
       "    </tr>\n",
       "    <tr>\n",
       "      <th>meta_info</th>\n",
       "      <td>step2&amp;3</td>\n",
       "    </tr>\n",
       "  </tbody>\n",
       "</table>\n",
       "</div>"
      ],
      "text/plain": [
       "                                                                                                                                                                                                                                                                                                                                                                                                                                                                                                                                                                                                                                                                                                                                                                                                                                                                                                                                                                                                                                                  1\n",
       "question    A 5-year-old girl is brought to the emergency department by her mother because of multiple episodes of nausea and vomiting that last about 2 hours. During this period, she has had 6–8 episodes of bilious vomiting and abdominal pain. The vomiting was preceded by fatigue. The girl feels well between these episodes. She has missed several days of school and has been hospitalized 2 times during the past 6 months for dehydration due to similar episodes of vomiting and nausea. The patient has lived with her mother since her parents divorced 8 months ago. Her immunizations are up-to-date. She is at the 60th percentile for height and 30th percentile for weight. She appears emaciated. Her temperature is 36.8°C (98.8°F), pulse is 99/min, and blood pressure is 82/52 mm Hg. Examination shows dry mucous membranes. The lungs are clear to auscultation. Abdominal examination shows a soft abdomen with mild diffuse tenderness with no guarding or rebound. The remainder of the physical examination sho...\n",
       "answer                                                                                                                                                                                                                                                                                                                                                                                                                                                                                                                                                                                                                                                                                                                                                                                                                                                                                                                                                                                                                     Cyclic vomiting syndrome\n",
       "answer_idx                                                                                                                                                                                                                                                                                                                                                                                                                                                                                                                                                                                                                                                                                                                                                                                                                                                                                                                                                                                                                                        A\n",
       "options                                                                                                                                                                                                                                                                                                                                                                                                                                                                                                                                                                                                                                                                                                                                                                                                                                                                                                     {'A': 'Cyclic vomiting syndrome', 'B': 'Gastroenteritis', 'C': 'Hypertrophic pyloric stenosis', 'D': 'Gastroesophageal reflux disease'}\n",
       "meta_info                                                                                                                                                                                                                                                                                                                                                                                                                                                                                                                                                                                                                                                                                                                                                                                                                                                                                                                                                                                                                                   step2&3"
      ]
     },
     "execution_count": 9,
     "metadata": {},
     "output_type": "execute_result"
    }
   ],
   "source": [
    "girl_study_case = df_dev.iloc[1]\n",
    "pd.DataFrame(girl_study_case)"
   ]
  },
  {
   "cell_type": "markdown",
   "metadata": {},
   "source": [
    "Let's try using BM25 search to find the most similar question to this in the test split.\n",
    "First let's create BM25 search DB:"
   ]
  },
  {
   "cell_type": "code",
   "execution_count": 10,
   "metadata": {},
   "outputs": [],
   "source": [
    "#creating BM25 search DB:\n",
    "from rank_bm25 import BM25Okapi\n",
    "import numpy as np\n",
    "\n",
    "questions_corpus=df_train['question'].tolist()\n",
    "tokenized_question_corpus = [doc.split(\" \") for doc in questions_corpus]\n",
    "bm25_questions = BM25Okapi(tokenized_question_corpus)\n",
    "\n",
    "def search_similar(query, bm25_index):\n",
    "    query=query.lower()\n",
    "    tokenized_query = query.split(\" \")\n",
    "    doc_scores = bm25_index.get_scores(tokenized_query)\n",
    "    index=np.argsort(-doc_scores)[:5][0]\n",
    "    return df_train.iloc[index]\n"
   ]
  },
  {
   "cell_type": "markdown",
   "metadata": {},
   "source": [
    "Done! let's search for closest question to our example:"
   ]
  },
  {
   "cell_type": "code",
   "execution_count": 12,
   "metadata": {},
   "outputs": [
    {
     "data": {
      "text/html": [
       "<div>\n",
       "<style scoped>\n",
       "    .dataframe tbody tr th:only-of-type {\n",
       "        vertical-align: middle;\n",
       "    }\n",
       "\n",
       "    .dataframe tbody tr th {\n",
       "        vertical-align: top;\n",
       "    }\n",
       "\n",
       "    .dataframe thead th {\n",
       "        text-align: right;\n",
       "    }\n",
       "</style>\n",
       "<table border=\"1\" class=\"dataframe\">\n",
       "  <thead>\n",
       "    <tr style=\"text-align: right;\">\n",
       "      <th></th>\n",
       "      <th>1274</th>\n",
       "    </tr>\n",
       "  </thead>\n",
       "  <tbody>\n",
       "    <tr>\n",
       "      <th>question</th>\n",
       "      <td>A previously healthy 14-year-old girl is brought to the emergency department by her mother because of abdominal pain, nausea, and vomiting for 6 hours. Over the past 6 weeks, she has also had increased frequency of urination, and she has been drinking more water than usual. She has lost 6 kg (13 lb) over the same time period despite having a good appetite. Her temperature is 37.1°C (98.8°F), pulse is 125/min, respirations are 32/min, and blood pressure is 94/58 mm Hg. She appears lethargic. Physical examination shows deep and labored breathing and dry mucous membranes. The abdomen is soft, and there is diffuse tenderness to palpation with no guarding or rebound. Urine dipstick is positive for ketones and glucose. Further evaluation is most likely to show which of the following findings?</td>\n",
       "    </tr>\n",
       "    <tr>\n",
       "      <th>answer</th>\n",
       "      <td>Decreased total body potassium</td>\n",
       "    </tr>\n",
       "    <tr>\n",
       "      <th>answer_idx</th>\n",
       "      <td>D</td>\n",
       "    </tr>\n",
       "    <tr>\n",
       "      <th>options</th>\n",
       "      <td>{'A': 'Increased arterial pCO2', 'B': 'Increased arterial blood pH', 'C': 'Serum glucose concentration &gt; 800 mg/dL', 'D': 'Decreased total body potassium'}</td>\n",
       "    </tr>\n",
       "    <tr>\n",
       "      <th>meta_info</th>\n",
       "      <td>step1</td>\n",
       "    </tr>\n",
       "  </tbody>\n",
       "</table>\n",
       "</div>"
      ],
      "text/plain": [
       "                                                                                                                                                                                                                                                                                                                                                                                                                                                                                                                                                                                                                                                                                                                                                                                                                                     1274\n",
       "question    A previously healthy 14-year-old girl is brought to the emergency department by her mother because of abdominal pain, nausea, and vomiting for 6 hours. Over the past 6 weeks, she has also had increased frequency of urination, and she has been drinking more water than usual. She has lost 6 kg (13 lb) over the same time period despite having a good appetite. Her temperature is 37.1°C (98.8°F), pulse is 125/min, respirations are 32/min, and blood pressure is 94/58 mm Hg. She appears lethargic. Physical examination shows deep and labored breathing and dry mucous membranes. The abdomen is soft, and there is diffuse tenderness to palpation with no guarding or rebound. Urine dipstick is positive for ketones and glucose. Further evaluation is most likely to show which of the following findings?\n",
       "answer                                                                                                                                                                                                                                                                                                                                                                                                                                                                                                                                                                                                                                                                                                                                                                                                     Decreased total body potassium\n",
       "answer_idx                                                                                                                                                                                                                                                                                                                                                                                                                                                                                                                                                                                                                                                                                                                                                                                                                              D\n",
       "options                                                                                                                                                                                                                                                                                                                                                                                                                                                                                                                                                                                                                                                                       {'A': 'Increased arterial pCO2', 'B': 'Increased arterial blood pH', 'C': 'Serum glucose concentration > 800 mg/dL', 'D': 'Decreased total body potassium'}\n",
       "meta_info                                                                                                                                                                                                                                                                                                                                                                                                                                                                                                                                                                                                                                                                                                                                                                                                                           step1"
      ]
     },
     "execution_count": 12,
     "metadata": {},
     "output_type": "execute_result"
    }
   ],
   "source": [
    "most_similar = search_similar(girl_study_case[\"question\"], bm25_questions)\n",
    "pd.DataFrame(most_similar)"
   ]
  },
  {
   "cell_type": "markdown",
   "metadata": {},
   "source": [
    "What if we used the answer options only for the search db?"
   ]
  },
  {
   "cell_type": "code",
   "execution_count": 13,
   "metadata": {},
   "outputs": [],
   "source": [
    "options_corpus=df_train['options'].astype(str).tolist()\n",
    "tokenized_options_corpus = [doc.split(\" \") for doc in options_corpus]\n",
    "bm25_options = BM25Okapi(tokenized_options_corpus)"
   ]
  },
  {
   "cell_type": "code",
   "execution_count": 15,
   "metadata": {},
   "outputs": [
    {
     "data": {
      "text/html": [
       "<div>\n",
       "<style scoped>\n",
       "    .dataframe tbody tr th:only-of-type {\n",
       "        vertical-align: middle;\n",
       "    }\n",
       "\n",
       "    .dataframe tbody tr th {\n",
       "        vertical-align: top;\n",
       "    }\n",
       "\n",
       "    .dataframe thead th {\n",
       "        text-align: right;\n",
       "    }\n",
       "</style>\n",
       "<table border=\"1\" class=\"dataframe\">\n",
       "  <thead>\n",
       "    <tr style=\"text-align: right;\">\n",
       "      <th></th>\n",
       "      <th>7055</th>\n",
       "    </tr>\n",
       "  </thead>\n",
       "  <tbody>\n",
       "    <tr>\n",
       "      <th>question</th>\n",
       "      <td>A 5-year-old male is brought to the pediatrician by his mother, who relates a primary complaint of a recent history of five independent episodes of vomiting over the last 10 months, most recently 3 weeks ago. Each time, he has awoken early in the morning appearing pale, feverish, lethargic, and complaining of severe nausea. This is followed by 8-12 episodes of non-bilious vomiting over the next 24 hours. Between these episodes he returns to normal activity. He has no significant past medical history and takes no other medications. Review of systems is negative for changes in vision, gait disturbance, or blood in his stool. His family history is significant only for migraine headaches. Vital signs and physical examination are within normal limits. Initial complete blood count, comprehensive metabolic panel, and abdominal radiograph were unremarkable. What is the most likely diagnosis?</td>\n",
       "    </tr>\n",
       "    <tr>\n",
       "      <th>answer</th>\n",
       "      <td>Cyclic vomiting syndrome</td>\n",
       "    </tr>\n",
       "    <tr>\n",
       "      <th>answer_idx</th>\n",
       "      <td>B</td>\n",
       "    </tr>\n",
       "    <tr>\n",
       "      <th>options</th>\n",
       "      <td>{'A': 'Intracranial mass', 'B': 'Cyclic vomiting syndrome', 'C': 'Gastroesophageal reflux', 'D': 'Intussusception'}</td>\n",
       "    </tr>\n",
       "    <tr>\n",
       "      <th>meta_info</th>\n",
       "      <td>step2&amp;3</td>\n",
       "    </tr>\n",
       "  </tbody>\n",
       "</table>\n",
       "</div>"
      ],
      "text/plain": [
       "                                                                                                                                                                                                                                                                                                                                                                                                                                                                                                                                                                                                                                                                                                                                                                                                                                                                                                                                        7055\n",
       "question    A 5-year-old male is brought to the pediatrician by his mother, who relates a primary complaint of a recent history of five independent episodes of vomiting over the last 10 months, most recently 3 weeks ago. Each time, he has awoken early in the morning appearing pale, feverish, lethargic, and complaining of severe nausea. This is followed by 8-12 episodes of non-bilious vomiting over the next 24 hours. Between these episodes he returns to normal activity. He has no significant past medical history and takes no other medications. Review of systems is negative for changes in vision, gait disturbance, or blood in his stool. His family history is significant only for migraine headaches. Vital signs and physical examination are within normal limits. Initial complete blood count, comprehensive metabolic panel, and abdominal radiograph were unremarkable. What is the most likely diagnosis?\n",
       "answer                                                                                                                                                                                                                                                                                                                                                                                                                                                                                                                                                                                                                                                                                                                                                                                                                                                                                                              Cyclic vomiting syndrome\n",
       "answer_idx                                                                                                                                                                                                                                                                                                                                                                                                                                                                                                                                                                                                                                                                                                                                                                                                                                                                                                                                 B\n",
       "options                                                                                                                                                                                                                                                                                                                                                                                                                                                                                                                                                                                                                                                                                                                                                                                                                  {'A': 'Intracranial mass', 'B': 'Cyclic vomiting syndrome', 'C': 'Gastroesophageal reflux', 'D': 'Intussusception'}\n",
       "meta_info                                                                                                                                                                                                                                                                                                                                                                                                                                                                                                                                                                                                                                                                                                                                                                                                                                                                                                                            step2&3"
      ]
     },
     "execution_count": 15,
     "metadata": {},
     "output_type": "execute_result"
    }
   ],
   "source": [
    "most_similar = search_similar(str(girl_study_case[\"options\"]), bm25_options)\n",
    "pd.DataFrame(most_similar)"
   ]
  },
  {
   "cell_type": "code",
   "execution_count": null,
   "metadata": {},
   "outputs": [],
   "source": []
  }
 ],
 "metadata": {
  "kernelspec": {
   "display_name": "Python 3",
   "language": "python",
   "name": "python3"
  },
  "language_info": {
   "codemirror_mode": {
    "name": "ipython",
    "version": 3
   },
   "file_extension": ".py",
   "mimetype": "text/x-python",
   "name": "python",
   "nbconvert_exporter": "python",
   "pygments_lexer": "ipython3",
   "version": "3.10.13"
  }
 },
 "nbformat": 4,
 "nbformat_minor": 2
}
