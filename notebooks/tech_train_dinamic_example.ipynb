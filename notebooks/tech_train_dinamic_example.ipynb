{
 "cells": [
  {
   "cell_type": "code",
   "execution_count": null,
   "metadata": {},
   "outputs": [],
   "source": [
    "import pandas as pd\n",
    "from tqdm import tqdm\n",
    "pd.set_option('max_colwidth', 10000)\n",
    "pd.options.mode.chained_assignment = None\n",
    "df_dev = pd.read_csv(\"../data/MedQA_dev.csv\", index_col=0)\n",
    "df_train = pd.read_csv(\"../data/MedQA_train.csv\", index_col=0)\n"
   ]
  },
  {
   "cell_type": "code",
   "execution_count": null,
   "metadata": {},
   "outputs": [],
   "source": [
    "#using Azure endpoint:\n",
    "import openai\n",
    "import os\n",
    "\n",
    "openai.api_type = \"azure\"\n",
    "openai.api_base = os.getenv(\"OPENAI_API_BASE\")\n",
    "openai.api_version = \"2023-07-01-preview\"\n",
    "openai.api_key = os.getenv(\"OPENAI_API_KEY\")\n",
    "from tech_train_functions import call_open_ai\n",
    "client = None"
   ]
  },
  {
   "cell_type": "markdown",
   "metadata": {},
   "source": [
    "Let's focus on question 7 and call it the hard study case:"
   ]
  },
  {
   "cell_type": "code",
   "execution_count": null,
   "metadata": {},
   "outputs": [],
   "source": [
    "hard_study_case = df_dev.iloc[9]\n",
    "pd.DataFrame(hard_study_case)"
   ]
  },
  {
   "cell_type": "markdown",
   "metadata": {},
   "source": [
    "Let's try using BM25 search to find the most similar question to this in the test split.\n",
    "First let's create BM25 search DB:"
   ]
  },
  {
   "cell_type": "code",
   "execution_count": null,
   "metadata": {},
   "outputs": [],
   "source": [
    "#creating BM25 search DB:\n",
    "from rank_bm25 import BM25Okapi\n",
    "import numpy as np\n",
    "\n",
    "questions_corpus=df_train['question'].tolist()\n",
    "tokenized_question_corpus = [doc.split(\" \") for doc in questions_corpus]\n",
    "bm25_questions = BM25Okapi(tokenized_question_corpus)\n",
    "\n",
    "def search_similar(query, bm25_index):\n",
    "    query=query.lower()\n",
    "    tokenized_query = query.split(\" \")\n",
    "    doc_scores = bm25_index.get_scores(tokenized_query)\n",
    "    index=np.argsort(-doc_scores)[0]\n",
    "    return df_train.iloc[index]\n"
   ]
  },
  {
   "cell_type": "markdown",
   "metadata": {},
   "source": [
    "Done! let's search for closest question to our example:"
   ]
  },
  {
   "cell_type": "code",
   "execution_count": null,
   "metadata": {},
   "outputs": [],
   "source": [
    "most_similar_in_question = search_similar(hard_study_case[\"question\"], bm25_questions)\n",
    "pd.DataFrame(most_similar_in_question)"
   ]
  },
  {
   "cell_type": "markdown",
   "metadata": {},
   "source": [
    "What if we used the answer options only for the search db?"
   ]
  },
  {
   "cell_type": "code",
   "execution_count": null,
   "metadata": {},
   "outputs": [],
   "source": [
    "options_corpus=df_train['options'].astype(str).tolist()\n",
    "tokenized_options_corpus = [doc.split(\" \") for doc in options_corpus]\n",
    "bm25_options = BM25Okapi(tokenized_options_corpus)"
   ]
  },
  {
   "cell_type": "code",
   "execution_count": null,
   "metadata": {},
   "outputs": [],
   "source": [
    "most_similar_in_answer = search_similar(str(hard_study_case[\"options\"]), bm25_options)\n",
    "pd.DataFrame(most_similar_in_answer)"
   ]
  },
  {
   "cell_type": "markdown",
   "metadata": {},
   "source": [
    "What if we used the extracted entities to determine which is the most similar answer?"
   ]
  },
  {
   "cell_type": "code",
   "execution_count": null,
   "metadata": {},
   "outputs": [],
   "source": [
    "df_dev_entities = pd.read_csv(\"../data/medQA_dev_entities.csv\", index_col=0)\n",
    "df_train_entities = pd.read_csv(\"../data/medQA_train_entities.csv\", index_col=0)\n",
    "hard_study_case_entities = df_dev_entities[\"entities\"].iloc[9]\n",
    "\n",
    "df_dev_entities[[\"question\",\"entities\"]].head(2)"
   ]
  },
  {
   "cell_type": "code",
   "execution_count": null,
   "metadata": {},
   "outputs": [],
   "source": [
    "entities_corpus=df_train_entities['entities'].astype(str).str.replace(\"'\",\"\").tolist()\n",
    "tokenized_entities_corpus = [doc.replace(\"'\",\"\").split(\" \") for doc in entities_corpus]\n",
    "bm25_entities = BM25Okapi(tokenized_entities_corpus)"
   ]
  },
  {
   "cell_type": "code",
   "execution_count": null,
   "metadata": {},
   "outputs": [],
   "source": [
    "most_similar_in_entities = search_similar(str(\"angina\"), bm25_entities)\n",
    "pd.DataFrame(most_similar_in_entities)"
   ]
  },
  {
   "cell_type": "markdown",
   "metadata": {},
   "source": [
    "Let's see if these examples are better than a random one!\n",
    "First let's create the CoT example:"
   ]
  },
  {
   "cell_type": "code",
   "execution_count": null,
   "metadata": {},
   "outputs": [],
   "source": [
    "from tech_train_functions import create_example_CoT\n",
    "question,answer,options = most_similar_in_answer[\"question\"],most_similar_in_answer[\"answer\"],most_similar_in_answer[\"options\"]\n",
    "system_message_explainer = \"Please explain step by step how to answer this question.\\\n",
    "Explain the condition of the patient and for each option explain why it's correct or incorrect. \\\n",
    "End with 'the correct answer is:' and then the correct answer idx and the correct answer\"\n",
    "example = create_example_CoT(system_message_explainer,question,options,answer, client=client)\n",
    "print(example[1])"
   ]
  },
  {
   "cell_type": "code",
   "execution_count": null,
   "metadata": {},
   "outputs": [],
   "source": [
    "system_message_CoT = \"You're a medical expert answering medical questions. Please answer step by step. Start with 'let's take it step by step'\\\n",
    "and end with 'the correct answer is:' and then the correct answer. Please allways end with this phrase\"\n",
    "\n",
    "q = hard_study_case[\"question\"] +\" \"+ str(hard_study_case[\"options\"])\n",
    "answer = call_open_ai(system_message_CoT, q, examples=[example], client=client)\n",
    "print(answer)"
   ]
  },
  {
   "cell_type": "code",
   "execution_count": null,
   "metadata": {},
   "outputs": [],
   "source": []
  }
 ],
 "metadata": {
  "kernelspec": {
   "display_name": "Python 3",
   "language": "python",
   "name": "python3"
  },
  "language_info": {
   "codemirror_mode": {
    "name": "ipython",
    "version": 3
   },
   "file_extension": ".py",
   "mimetype": "text/x-python",
   "name": "python",
   "nbconvert_exporter": "python",
   "pygments_lexer": "ipython3",
   "version": "3.10.13"
  }
 },
 "nbformat": 4,
 "nbformat_minor": 2
}
