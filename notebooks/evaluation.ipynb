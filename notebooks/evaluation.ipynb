{
 "cells": [
  {
   "cell_type": "code",
   "execution_count": null,
   "metadata": {},
   "outputs": [],
   "source": [
    "import pandas as pd\n",
    "sample_df = pd.read_csv(\"../data/medQA_openanswers.csv\")[:25]"
   ]
  },
  {
   "cell_type": "code",
   "execution_count": null,
   "metadata": {},
   "outputs": [],
   "source": [
    "sample_df.head(10)"
   ]
  },
  {
   "cell_type": "code",
   "execution_count": null,
   "metadata": {},
   "outputs": [],
   "source": [
    "from tech_train_functions import is_similar\n",
    "sample_df.loc[:,\"is correct reply\"] = sample_df.apply(lambda row:row[\"answer\"].lower() in row[\"reply_open\"].lower(), axis=1)"
   ]
  },
  {
   "cell_type": "code",
   "execution_count": null,
   "metadata": {},
   "outputs": [],
   "source": [
    "sample_df.head(10)"
   ]
  },
  {
   "cell_type": "code",
   "execution_count": null,
   "metadata": {},
   "outputs": [],
   "source": [
    "sample_df[\"is correct reply\"].value_counts()"
   ]
  },
  {
   "cell_type": "code",
   "execution_count": null,
   "metadata": {},
   "outputs": [],
   "source": [
    "import os\n",
    "from tech_train_functions import analyze_TA4H\n",
    "ta4h_endpoint=os.getenv(\"TA4H_ENDPOINT\")\n",
    "key=os.getenv(\"TA4H_KEY\")"
   ]
  },
  {
   "cell_type": "code",
   "execution_count": null,
   "metadata": {},
   "outputs": [],
   "source": [
    "def is_similar_entities(gold_answers, answers):\n",
    "    gold_answer_entities_list = analyze_TA4H(ta4h_endpoint, key, gold_answers)\n",
    "    print(gold_answer_entities_list)\n",
    "    gold_answers_entities_short = [[entities_format(e) for e in gold_answer_entities] for gold_answer_entities in gold_answer_entities_list]\n",
    "    print(gold_answers_entities_short)\n",
    "    answer_entities_list = analyze_TA4H(ta4h_endpoint, key,answers)\n",
    "    answer_entities_short = [[entities_format(e) for e in answer_entities] for answer_entities in answer_entities_list]\n",
    "    print(answer_entities_short)\n",
    "    return compare_lists(gold_answers_entities_short, answer_entities_short)\n",
    "\n",
    "def entities_format(e):\n",
    "   return e[\"normalized_text\"] if e[\"normalized_text\"] else e[\"text\"].lower()\n",
    "\n",
    "def compare_lists(list1, list2):\n",
    "    # Initialize an empty list to store the results\n",
    "    result = []\n",
    "\n",
    "    # Iterate over each pair of lists\n",
    "    for sublist1, sublist2 in zip(list1, list2):\n",
    "        # Check if there is no intersection between the two sublists\n",
    "        non_covered_entities = set(sublist1)-set(sublist2)\n",
    "        result.append(1 if len(non_covered_entities)==0 else 0)\n",
    "\n",
    "    return result"
   ]
  },
  {
   "cell_type": "code",
   "execution_count": null,
   "metadata": {},
   "outputs": [],
   "source": [
    "sample_df[\"is correct entities\"] = is_similar_entities(sample_df[\"reply_open\"].tolist(), sample_df[\"answer\"].tolist())"
   ]
  },
  {
   "cell_type": "code",
   "execution_count": null,
   "metadata": {},
   "outputs": [],
   "source": [
    "sample_df"
   ]
  },
  {
   "cell_type": "code",
   "execution_count": null,
   "metadata": {},
   "outputs": [],
   "source": []
  }
 ],
 "metadata": {
  "kernelspec": {
   "display_name": "Python 3",
   "language": "python",
   "name": "python3"
  },
  "language_info": {
   "codemirror_mode": {
    "name": "ipython",
    "version": 3
   },
   "file_extension": ".py",
   "mimetype": "text/x-python",
   "name": "python",
   "nbconvert_exporter": "python",
   "pygments_lexer": "ipython3",
   "version": "3.10.13"
  }
 },
 "nbformat": 4,
 "nbformat_minor": 2
}
