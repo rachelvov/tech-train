{
 "cells": [
  {
   "cell_type": "code",
   "execution_count": 2,
   "metadata": {},
   "outputs": [],
   "source": [
    "import pandas as pd\n",
    "sample_df = pd.read_csv(\"../data/medQA_openanswers.csv\")"
   ]
  },
  {
   "cell_type": "code",
   "execution_count": 5,
   "metadata": {},
   "outputs": [
    {
     "data": {
      "text/html": [
       "<div>\n",
       "<style scoped>\n",
       "    .dataframe tbody tr th:only-of-type {\n",
       "        vertical-align: middle;\n",
       "    }\n",
       "\n",
       "    .dataframe tbody tr th {\n",
       "        vertical-align: top;\n",
       "    }\n",
       "\n",
       "    .dataframe thead th {\n",
       "        text-align: right;\n",
       "    }\n",
       "</style>\n",
       "<table border=\"1\" class=\"dataframe\">\n",
       "  <thead>\n",
       "    <tr style=\"text-align: right;\">\n",
       "      <th></th>\n",
       "      <th>Unnamed: 0</th>\n",
       "      <th>question</th>\n",
       "      <th>options</th>\n",
       "      <th>answer</th>\n",
       "      <th>reply_open</th>\n",
       "    </tr>\n",
       "  </thead>\n",
       "  <tbody>\n",
       "    <tr>\n",
       "      <th>0</th>\n",
       "      <td>0</td>\n",
       "      <td>A 21-year-old sexually active male complains o...</td>\n",
       "      <td>{'A': 'Gentamicin', 'B': 'Ciprofloxacin', 'C':...</td>\n",
       "      <td>Ceftriaxone</td>\n",
       "      <td>Penicillin.</td>\n",
       "    </tr>\n",
       "    <tr>\n",
       "      <th>1</th>\n",
       "      <td>1</td>\n",
       "      <td>A 5-year-old girl is brought to the emergency ...</td>\n",
       "      <td>{'A': 'Cyclic vomiting syndrome', 'B': 'Gastro...</td>\n",
       "      <td>Cyclic vomiting syndrome</td>\n",
       "      <td>Cyclic vomiting syndrome.</td>\n",
       "    </tr>\n",
       "    <tr>\n",
       "      <th>2</th>\n",
       "      <td>2</td>\n",
       "      <td>A 40-year-old woman presents with difficulty f...</td>\n",
       "      <td>{'A': 'Diazepam', 'B': 'Paroxetine', 'C': 'Zol...</td>\n",
       "      <td>Trazodone</td>\n",
       "      <td>Depression screening.</td>\n",
       "    </tr>\n",
       "    <tr>\n",
       "      <th>3</th>\n",
       "      <td>3</td>\n",
       "      <td>A 37-year-old female with a history of type II...</td>\n",
       "      <td>{'A': 'Obtain an abdominal CT scan', 'B': 'Obt...</td>\n",
       "      <td>Obtain a urine analysis and urine culture</td>\n",
       "      <td>Obtain a urine culture.</td>\n",
       "    </tr>\n",
       "    <tr>\n",
       "      <th>4</th>\n",
       "      <td>4</td>\n",
       "      <td>A 19-year-old boy presents with confusion and ...</td>\n",
       "      <td>{'A': 'Hypoperfusion', 'B': 'Hyperglycemia', '...</td>\n",
       "      <td>Hypoperfusion</td>\n",
       "      <td>Hyperglycemia.</td>\n",
       "    </tr>\n",
       "  </tbody>\n",
       "</table>\n",
       "</div>"
      ],
      "text/plain": [
       "   Unnamed: 0                                           question  \\\n",
       "0           0  A 21-year-old sexually active male complains o...   \n",
       "1           1  A 5-year-old girl is brought to the emergency ...   \n",
       "2           2  A 40-year-old woman presents with difficulty f...   \n",
       "3           3  A 37-year-old female with a history of type II...   \n",
       "4           4  A 19-year-old boy presents with confusion and ...   \n",
       "\n",
       "                                             options  \\\n",
       "0  {'A': 'Gentamicin', 'B': 'Ciprofloxacin', 'C':...   \n",
       "1  {'A': 'Cyclic vomiting syndrome', 'B': 'Gastro...   \n",
       "2  {'A': 'Diazepam', 'B': 'Paroxetine', 'C': 'Zol...   \n",
       "3  {'A': 'Obtain an abdominal CT scan', 'B': 'Obt...   \n",
       "4  {'A': 'Hypoperfusion', 'B': 'Hyperglycemia', '...   \n",
       "\n",
       "                                      answer                 reply_open  \n",
       "0                                Ceftriaxone                Penicillin.  \n",
       "1                   Cyclic vomiting syndrome  Cyclic vomiting syndrome.  \n",
       "2                                  Trazodone      Depression screening.  \n",
       "3  Obtain a urine analysis and urine culture    Obtain a urine culture.  \n",
       "4                              Hypoperfusion             Hyperglycemia.  "
      ]
     },
     "execution_count": 5,
     "metadata": {},
     "output_type": "execute_result"
    }
   ],
   "source": [
    "sample_df.head()"
   ]
  },
  {
   "cell_type": "code",
   "execution_count": 29,
   "metadata": {},
   "outputs": [],
   "source": [
    "from tech_train_functions import is_similar\n",
    "sample_df.loc[:,\"is correct reply\"] = sample_df.apply(lambda row:row[\"answer\"].lower() in row[\"reply_open\"].lower(), axis=1)"
   ]
  },
  {
   "cell_type": "code",
   "execution_count": 30,
   "metadata": {},
   "outputs": [
    {
     "data": {
      "text/plain": [
       "is correct reply\n",
       "False    26\n",
       "True      4\n",
       "Name: count, dtype: int64"
      ]
     },
     "execution_count": 30,
     "metadata": {},
     "output_type": "execute_result"
    }
   ],
   "source": [
    "sample_df[\"is correct reply\"].value_counts()"
   ]
  },
  {
   "cell_type": "code",
   "execution_count": 6,
   "metadata": {},
   "outputs": [],
   "source": [
    "from tech_train_functions import TA4HPredictor\n",
    "ta4h = TA4HPredictor()"
   ]
  },
  {
   "cell_type": "code",
   "execution_count": 7,
   "metadata": {},
   "outputs": [],
   "source": [
    "def is_similar_entities(gold_answers, answers):\n",
    "    gold_answer_entities_list = ta4h.predict_ta4h(gold_answers)\n",
    "    gold_answers_entities_short = [[entities_format(e) for e in gold_answer_entities] for gold_answer_entities in gold_answer_entities_list]\n",
    "    answer_entities_list = ta4h.predict_ta4h(answers)\n",
    "    answer_entities_short = [[entities_format(e) for e in answer_entities] for answer_entities in answer_entities_list]\n",
    "    return compare_lists(gold_answers_entities_short, answer_entities_short)\n",
    "\n",
    "def entities_format(e):\n",
    "   return e[\"name\"] if \"name\" in e else e[\"text\"]\n",
    "\n",
    "def compare_lists(list1, list2):\n",
    "    # Initialize an empty list to store the results\n",
    "    result = []\n",
    "\n",
    "    # Iterate over each pair of lists\n",
    "    for sublist1, sublist2 in zip(list1, list2):\n",
    "        # Check if there is no intersection between the two sublists\n",
    "        non_covered_entities = set(sublist1)-set(sublist2)\n",
    "        result.append(1 if len(non_covered_entities)==0 else 0)\n",
    "\n",
    "    return result"
   ]
  },
  {
   "cell_type": "code",
   "execution_count": 13,
   "metadata": {},
   "outputs": [
    {
     "data": {
      "text/plain": [
       "[1, 0]"
      ]
     },
     "execution_count": 13,
     "metadata": {},
     "output_type": "execute_result"
    }
   ],
   "source": [
    "is_similar_entities([\"hiv\", \"hbv\"],[\"HIV\",\"Pneumonia\"])"
   ]
  },
  {
   "cell_type": "code",
   "execution_count": 16,
   "metadata": {},
   "outputs": [],
   "source": [
    "sample_df[\"is correct entities\"] = is_similar_entities(sample_df[\"reply_open\"].tolist(), sample_df[\"answer\"].tolist())"
   ]
  },
  {
   "cell_type": "code",
   "execution_count": 20,
   "metadata": {},
   "outputs": [
    {
     "data": {
      "text/plain": [
       "is correct entities\n",
       "0    22\n",
       "1     8\n",
       "Name: count, dtype: int64"
      ]
     },
     "execution_count": 20,
     "metadata": {},
     "output_type": "execute_result"
    }
   ],
   "source": [
    "sample_df[\"is correct entities\"].value_counts()"
   ]
  },
  {
   "cell_type": "code",
   "execution_count": null,
   "metadata": {},
   "outputs": [],
   "source": []
  }
 ],
 "metadata": {
  "kernelspec": {
   "display_name": "Python 3",
   "language": "python",
   "name": "python3"
  },
  "language_info": {
   "codemirror_mode": {
    "name": "ipython",
    "version": 3
   },
   "file_extension": ".py",
   "mimetype": "text/x-python",
   "name": "python",
   "nbconvert_exporter": "python",
   "pygments_lexer": "ipython3",
   "version": "3.10.13"
  }
 },
 "nbformat": 4,
 "nbformat_minor": 2
}
